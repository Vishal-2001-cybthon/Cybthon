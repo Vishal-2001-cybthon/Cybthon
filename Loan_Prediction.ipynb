{
  "cells": [
    {
      "cell_type": "markdown",
      "metadata": {
        "id": "view-in-github",
        "colab_type": "text"
      },
      "source": [
        "<a href=\"https://colab.research.google.com/github/Vishal-2001-cybthon/Cybthon/blob/main/Loan_Prediction.ipynb\" target=\"_parent\"><img src=\"https://colab.research.google.com/assets/colab-badge.svg\" alt=\"Open In Colab\"/></a>"
      ]
    },
    {
      "cell_type": "markdown",
      "source": [
        "# ***IMPORTING PACKAGES***"
      ],
      "metadata": {
        "id": "Thr3CzE7QGfj"
      }
    },
    {
      "cell_type": "code",
      "execution_count": 1,
      "metadata": {
        "id": "3HL3-kZPs5Om"
      },
      "outputs": [],
      "source": [
        "#import the packages which requires!\n",
        "import numpy as np \n",
        "import pandas as pd\n",
        "import matplotlib.pyplot as plt"
      ]
    },
    {
      "cell_type": "code",
      "execution_count": 2,
      "metadata": {
        "id": "CVPcfTQys5Ov"
      },
      "outputs": [],
      "source": [
        "import seaborn as sns"
      ]
    },
    {
      "cell_type": "markdown",
      "source": [
        "# ***Data Importing and Describing***"
      ],
      "metadata": {
        "id": "MibVygg-Q9l2"
      }
    },
    {
      "cell_type": "code",
      "execution_count": 3,
      "metadata": {
        "id": "qwAT1bois5Ow"
      },
      "outputs": [],
      "source": [
        "train_data = pd.read_csv(\"/content/train.csv\")"
      ]
    },
    {
      "cell_type": "code",
      "execution_count": 4,
      "metadata": {
        "colab": {
          "base_uri": "https://localhost:8080/"
        },
        "id": "XVxTSRPTs5O3",
        "outputId": "165e47cf-eff8-4b2e-edf6-c99461fd9701"
      },
      "outputs": [
        {
          "output_type": "stream",
          "name": "stdout",
          "text": [
            "<class 'pandas.core.frame.DataFrame'>\n",
            "RangeIndex: 614 entries, 0 to 613\n",
            "Data columns (total 13 columns):\n",
            " #   Column             Non-Null Count  Dtype  \n",
            "---  ------             --------------  -----  \n",
            " 0   Loan_ID            614 non-null    object \n",
            " 1   Gender             601 non-null    object \n",
            " 2   Married            611 non-null    object \n",
            " 3   Dependents         599 non-null    object \n",
            " 4   Education          614 non-null    object \n",
            " 5   Self_Employed      582 non-null    object \n",
            " 6   ApplicantIncome    614 non-null    int64  \n",
            " 7   CoapplicantIncome  614 non-null    float64\n",
            " 8   LoanAmount         592 non-null    float64\n",
            " 9   Loan_Amount_Term   600 non-null    float64\n",
            " 10  Credit_History     564 non-null    float64\n",
            " 11  Property_Area      614 non-null    object \n",
            " 12  Loan_Status        614 non-null    object \n",
            "dtypes: float64(4), int64(1), object(8)\n",
            "memory usage: 62.5+ KB\n"
          ]
        }
      ],
      "source": [
        "train_data.info()"
      ]
    },
    {
      "cell_type": "code",
      "execution_count": 5,
      "metadata": {
        "colab": {
          "base_uri": "https://localhost:8080/",
          "height": 0
        },
        "id": "W6qkAIdEs5O5",
        "outputId": "be88472a-dd80-405a-ff25-88fafb4c02f2"
      },
      "outputs": [
        {
          "output_type": "execute_result",
          "data": {
            "text/plain": [
              "         Loan_ID Gender Married Dependents Education Self_Employed  \\\n",
              "count        614    601     611        599       614           582   \n",
              "unique       614      2       2          4         2             2   \n",
              "top     LP001002   Male     Yes          0  Graduate            No   \n",
              "freq           1    489     398        345       480           500   \n",
              "mean         NaN    NaN     NaN        NaN       NaN           NaN   \n",
              "std          NaN    NaN     NaN        NaN       NaN           NaN   \n",
              "min          NaN    NaN     NaN        NaN       NaN           NaN   \n",
              "25%          NaN    NaN     NaN        NaN       NaN           NaN   \n",
              "50%          NaN    NaN     NaN        NaN       NaN           NaN   \n",
              "75%          NaN    NaN     NaN        NaN       NaN           NaN   \n",
              "max          NaN    NaN     NaN        NaN       NaN           NaN   \n",
              "\n",
              "        ApplicantIncome  CoapplicantIncome  LoanAmount  Loan_Amount_Term  \\\n",
              "count        614.000000         614.000000  592.000000         600.00000   \n",
              "unique              NaN                NaN         NaN               NaN   \n",
              "top                 NaN                NaN         NaN               NaN   \n",
              "freq                NaN                NaN         NaN               NaN   \n",
              "mean        5403.459283        1621.245798  146.412162         342.00000   \n",
              "std         6109.041673        2926.248369   85.587325          65.12041   \n",
              "min          150.000000           0.000000    9.000000          12.00000   \n",
              "25%         2877.500000           0.000000  100.000000         360.00000   \n",
              "50%         3812.500000        1188.500000  128.000000         360.00000   \n",
              "75%         5795.000000        2297.250000  168.000000         360.00000   \n",
              "max        81000.000000       41667.000000  700.000000         480.00000   \n",
              "\n",
              "        Credit_History Property_Area Loan_Status  \n",
              "count       564.000000           614         614  \n",
              "unique             NaN             3           2  \n",
              "top                NaN     Semiurban           Y  \n",
              "freq               NaN           233         422  \n",
              "mean          0.842199           NaN         NaN  \n",
              "std           0.364878           NaN         NaN  \n",
              "min           0.000000           NaN         NaN  \n",
              "25%           1.000000           NaN         NaN  \n",
              "50%           1.000000           NaN         NaN  \n",
              "75%           1.000000           NaN         NaN  \n",
              "max           1.000000           NaN         NaN  "
            ],
            "text/html": [
              "\n",
              "  <div id=\"df-daadff12-6a14-412b-b412-e1f9cda7f088\">\n",
              "    <div class=\"colab-df-container\">\n",
              "      <div>\n",
              "<style scoped>\n",
              "    .dataframe tbody tr th:only-of-type {\n",
              "        vertical-align: middle;\n",
              "    }\n",
              "\n",
              "    .dataframe tbody tr th {\n",
              "        vertical-align: top;\n",
              "    }\n",
              "\n",
              "    .dataframe thead th {\n",
              "        text-align: right;\n",
              "    }\n",
              "</style>\n",
              "<table border=\"1\" class=\"dataframe\">\n",
              "  <thead>\n",
              "    <tr style=\"text-align: right;\">\n",
              "      <th></th>\n",
              "      <th>Loan_ID</th>\n",
              "      <th>Gender</th>\n",
              "      <th>Married</th>\n",
              "      <th>Dependents</th>\n",
              "      <th>Education</th>\n",
              "      <th>Self_Employed</th>\n",
              "      <th>ApplicantIncome</th>\n",
              "      <th>CoapplicantIncome</th>\n",
              "      <th>LoanAmount</th>\n",
              "      <th>Loan_Amount_Term</th>\n",
              "      <th>Credit_History</th>\n",
              "      <th>Property_Area</th>\n",
              "      <th>Loan_Status</th>\n",
              "    </tr>\n",
              "  </thead>\n",
              "  <tbody>\n",
              "    <tr>\n",
              "      <th>count</th>\n",
              "      <td>614</td>\n",
              "      <td>601</td>\n",
              "      <td>611</td>\n",
              "      <td>599</td>\n",
              "      <td>614</td>\n",
              "      <td>582</td>\n",
              "      <td>614.000000</td>\n",
              "      <td>614.000000</td>\n",
              "      <td>592.000000</td>\n",
              "      <td>600.00000</td>\n",
              "      <td>564.000000</td>\n",
              "      <td>614</td>\n",
              "      <td>614</td>\n",
              "    </tr>\n",
              "    <tr>\n",
              "      <th>unique</th>\n",
              "      <td>614</td>\n",
              "      <td>2</td>\n",
              "      <td>2</td>\n",
              "      <td>4</td>\n",
              "      <td>2</td>\n",
              "      <td>2</td>\n",
              "      <td>NaN</td>\n",
              "      <td>NaN</td>\n",
              "      <td>NaN</td>\n",
              "      <td>NaN</td>\n",
              "      <td>NaN</td>\n",
              "      <td>3</td>\n",
              "      <td>2</td>\n",
              "    </tr>\n",
              "    <tr>\n",
              "      <th>top</th>\n",
              "      <td>LP001002</td>\n",
              "      <td>Male</td>\n",
              "      <td>Yes</td>\n",
              "      <td>0</td>\n",
              "      <td>Graduate</td>\n",
              "      <td>No</td>\n",
              "      <td>NaN</td>\n",
              "      <td>NaN</td>\n",
              "      <td>NaN</td>\n",
              "      <td>NaN</td>\n",
              "      <td>NaN</td>\n",
              "      <td>Semiurban</td>\n",
              "      <td>Y</td>\n",
              "    </tr>\n",
              "    <tr>\n",
              "      <th>freq</th>\n",
              "      <td>1</td>\n",
              "      <td>489</td>\n",
              "      <td>398</td>\n",
              "      <td>345</td>\n",
              "      <td>480</td>\n",
              "      <td>500</td>\n",
              "      <td>NaN</td>\n",
              "      <td>NaN</td>\n",
              "      <td>NaN</td>\n",
              "      <td>NaN</td>\n",
              "      <td>NaN</td>\n",
              "      <td>233</td>\n",
              "      <td>422</td>\n",
              "    </tr>\n",
              "    <tr>\n",
              "      <th>mean</th>\n",
              "      <td>NaN</td>\n",
              "      <td>NaN</td>\n",
              "      <td>NaN</td>\n",
              "      <td>NaN</td>\n",
              "      <td>NaN</td>\n",
              "      <td>NaN</td>\n",
              "      <td>5403.459283</td>\n",
              "      <td>1621.245798</td>\n",
              "      <td>146.412162</td>\n",
              "      <td>342.00000</td>\n",
              "      <td>0.842199</td>\n",
              "      <td>NaN</td>\n",
              "      <td>NaN</td>\n",
              "    </tr>\n",
              "    <tr>\n",
              "      <th>std</th>\n",
              "      <td>NaN</td>\n",
              "      <td>NaN</td>\n",
              "      <td>NaN</td>\n",
              "      <td>NaN</td>\n",
              "      <td>NaN</td>\n",
              "      <td>NaN</td>\n",
              "      <td>6109.041673</td>\n",
              "      <td>2926.248369</td>\n",
              "      <td>85.587325</td>\n",
              "      <td>65.12041</td>\n",
              "      <td>0.364878</td>\n",
              "      <td>NaN</td>\n",
              "      <td>NaN</td>\n",
              "    </tr>\n",
              "    <tr>\n",
              "      <th>min</th>\n",
              "      <td>NaN</td>\n",
              "      <td>NaN</td>\n",
              "      <td>NaN</td>\n",
              "      <td>NaN</td>\n",
              "      <td>NaN</td>\n",
              "      <td>NaN</td>\n",
              "      <td>150.000000</td>\n",
              "      <td>0.000000</td>\n",
              "      <td>9.000000</td>\n",
              "      <td>12.00000</td>\n",
              "      <td>0.000000</td>\n",
              "      <td>NaN</td>\n",
              "      <td>NaN</td>\n",
              "    </tr>\n",
              "    <tr>\n",
              "      <th>25%</th>\n",
              "      <td>NaN</td>\n",
              "      <td>NaN</td>\n",
              "      <td>NaN</td>\n",
              "      <td>NaN</td>\n",
              "      <td>NaN</td>\n",
              "      <td>NaN</td>\n",
              "      <td>2877.500000</td>\n",
              "      <td>0.000000</td>\n",
              "      <td>100.000000</td>\n",
              "      <td>360.00000</td>\n",
              "      <td>1.000000</td>\n",
              "      <td>NaN</td>\n",
              "      <td>NaN</td>\n",
              "    </tr>\n",
              "    <tr>\n",
              "      <th>50%</th>\n",
              "      <td>NaN</td>\n",
              "      <td>NaN</td>\n",
              "      <td>NaN</td>\n",
              "      <td>NaN</td>\n",
              "      <td>NaN</td>\n",
              "      <td>NaN</td>\n",
              "      <td>3812.500000</td>\n",
              "      <td>1188.500000</td>\n",
              "      <td>128.000000</td>\n",
              "      <td>360.00000</td>\n",
              "      <td>1.000000</td>\n",
              "      <td>NaN</td>\n",
              "      <td>NaN</td>\n",
              "    </tr>\n",
              "    <tr>\n",
              "      <th>75%</th>\n",
              "      <td>NaN</td>\n",
              "      <td>NaN</td>\n",
              "      <td>NaN</td>\n",
              "      <td>NaN</td>\n",
              "      <td>NaN</td>\n",
              "      <td>NaN</td>\n",
              "      <td>5795.000000</td>\n",
              "      <td>2297.250000</td>\n",
              "      <td>168.000000</td>\n",
              "      <td>360.00000</td>\n",
              "      <td>1.000000</td>\n",
              "      <td>NaN</td>\n",
              "      <td>NaN</td>\n",
              "    </tr>\n",
              "    <tr>\n",
              "      <th>max</th>\n",
              "      <td>NaN</td>\n",
              "      <td>NaN</td>\n",
              "      <td>NaN</td>\n",
              "      <td>NaN</td>\n",
              "      <td>NaN</td>\n",
              "      <td>NaN</td>\n",
              "      <td>81000.000000</td>\n",
              "      <td>41667.000000</td>\n",
              "      <td>700.000000</td>\n",
              "      <td>480.00000</td>\n",
              "      <td>1.000000</td>\n",
              "      <td>NaN</td>\n",
              "      <td>NaN</td>\n",
              "    </tr>\n",
              "  </tbody>\n",
              "</table>\n",
              "</div>\n",
              "      <button class=\"colab-df-convert\" onclick=\"convertToInteractive('df-daadff12-6a14-412b-b412-e1f9cda7f088')\"\n",
              "              title=\"Convert this dataframe to an interactive table.\"\n",
              "              style=\"display:none;\">\n",
              "        \n",
              "  <svg xmlns=\"http://www.w3.org/2000/svg\" height=\"24px\"viewBox=\"0 0 24 24\"\n",
              "       width=\"24px\">\n",
              "    <path d=\"M0 0h24v24H0V0z\" fill=\"none\"/>\n",
              "    <path d=\"M18.56 5.44l.94 2.06.94-2.06 2.06-.94-2.06-.94-.94-2.06-.94 2.06-2.06.94zm-11 1L8.5 8.5l.94-2.06 2.06-.94-2.06-.94L8.5 2.5l-.94 2.06-2.06.94zm10 10l.94 2.06.94-2.06 2.06-.94-2.06-.94-.94-2.06-.94 2.06-2.06.94z\"/><path d=\"M17.41 7.96l-1.37-1.37c-.4-.4-.92-.59-1.43-.59-.52 0-1.04.2-1.43.59L10.3 9.45l-7.72 7.72c-.78.78-.78 2.05 0 2.83L4 21.41c.39.39.9.59 1.41.59.51 0 1.02-.2 1.41-.59l7.78-7.78 2.81-2.81c.8-.78.8-2.07 0-2.86zM5.41 20L4 18.59l7.72-7.72 1.47 1.35L5.41 20z\"/>\n",
              "  </svg>\n",
              "      </button>\n",
              "      \n",
              "  <style>\n",
              "    .colab-df-container {\n",
              "      display:flex;\n",
              "      flex-wrap:wrap;\n",
              "      gap: 12px;\n",
              "    }\n",
              "\n",
              "    .colab-df-convert {\n",
              "      background-color: #E8F0FE;\n",
              "      border: none;\n",
              "      border-radius: 50%;\n",
              "      cursor: pointer;\n",
              "      display: none;\n",
              "      fill: #1967D2;\n",
              "      height: 32px;\n",
              "      padding: 0 0 0 0;\n",
              "      width: 32px;\n",
              "    }\n",
              "\n",
              "    .colab-df-convert:hover {\n",
              "      background-color: #E2EBFA;\n",
              "      box-shadow: 0px 1px 2px rgba(60, 64, 67, 0.3), 0px 1px 3px 1px rgba(60, 64, 67, 0.15);\n",
              "      fill: #174EA6;\n",
              "    }\n",
              "\n",
              "    [theme=dark] .colab-df-convert {\n",
              "      background-color: #3B4455;\n",
              "      fill: #D2E3FC;\n",
              "    }\n",
              "\n",
              "    [theme=dark] .colab-df-convert:hover {\n",
              "      background-color: #434B5C;\n",
              "      box-shadow: 0px 1px 3px 1px rgba(0, 0, 0, 0.15);\n",
              "      filter: drop-shadow(0px 1px 2px rgba(0, 0, 0, 0.3));\n",
              "      fill: #FFFFFF;\n",
              "    }\n",
              "  </style>\n",
              "\n",
              "      <script>\n",
              "        const buttonEl =\n",
              "          document.querySelector('#df-daadff12-6a14-412b-b412-e1f9cda7f088 button.colab-df-convert');\n",
              "        buttonEl.style.display =\n",
              "          google.colab.kernel.accessAllowed ? 'block' : 'none';\n",
              "\n",
              "        async function convertToInteractive(key) {\n",
              "          const element = document.querySelector('#df-daadff12-6a14-412b-b412-e1f9cda7f088');\n",
              "          const dataTable =\n",
              "            await google.colab.kernel.invokeFunction('convertToInteractive',\n",
              "                                                     [key], {});\n",
              "          if (!dataTable) return;\n",
              "\n",
              "          const docLinkHtml = 'Like what you see? Visit the ' +\n",
              "            '<a target=\"_blank\" href=https://colab.research.google.com/notebooks/data_table.ipynb>data table notebook</a>'\n",
              "            + ' to learn more about interactive tables.';\n",
              "          element.innerHTML = '';\n",
              "          dataTable['output_type'] = 'display_data';\n",
              "          await google.colab.output.renderOutput(dataTable, element);\n",
              "          const docLink = document.createElement('div');\n",
              "          docLink.innerHTML = docLinkHtml;\n",
              "          element.appendChild(docLink);\n",
              "        }\n",
              "      </script>\n",
              "    </div>\n",
              "  </div>\n",
              "  "
            ]
          },
          "metadata": {},
          "execution_count": 5
        }
      ],
      "source": [
        "train_data.describe(include = 'all')"
      ]
    },
    {
      "cell_type": "raw",
      "metadata": {
        "id": "M54biFfws5O6"
      },
      "source": [
        " Notes -:\n",
        "  Categorical/binary variables : Loan_ID, Gender, Married, Dependents, Education, Self_Employed, Credit_History, Property_Area,                                  Loan_Status.\n",
        " Continous Variables  : ApplicantIncome, CoapplicantIncome, LoanAmount\n",
        "  Descrete Numerical variable : Loan_Amount_Term"
      ]
    },
    {
      "cell_type": "markdown",
      "metadata": {
        "id": "--SSTp-Ss5O8"
      },
      "source": [
        "# Data Cleaning"
      ]
    },
    {
      "cell_type": "code",
      "execution_count": 6,
      "metadata": {
        "id": "xEm-cIdYs5O9"
      },
      "outputs": [],
      "source": [
        "train_data1 = train_data.copy()#for overwriting purpose make a copy"
      ]
    },
    {
      "cell_type": "code",
      "execution_count": 7,
      "metadata": {
        "id": "fUgjGsJis5O-"
      },
      "outputs": [],
      "source": [
        "#changing name of few columns\n",
        "train_data1.rename(columns = {\"ApplicantIncome\" : \"Applicant_Income\", \"CoapplicantIncome\" : \"Coapplicant_Income\",\n",
        "                             \"LoanAmount\" : \"Loan_Amount\"}, inplace  = True)"
      ]
    },
    {
      "cell_type": "code",
      "execution_count": 8,
      "metadata": {
        "id": "qQI0dfkvs5O_"
      },
      "outputs": [],
      "source": [
        "# changing index to Loan_ID\n",
        "train_data1.set_index(\"Loan_ID\", inplace = True)"
      ]
    },
    {
      "cell_type": "code",
      "execution_count": 9,
      "metadata": {
        "id": "WlLGL1TUs5PA",
        "colab": {
          "base_uri": "https://localhost:8080/"
        },
        "outputId": "1b9b2e39-9cfc-4867-c4be-d60e93822f76"
      },
      "outputs": [
        {
          "output_type": "stream",
          "name": "stdout",
          "text": [
            "Loan_ID\n",
            "LP001002      Male\n",
            "LP001003      Male\n",
            "LP001005      Male\n",
            "LP001006      Male\n",
            "LP001008      Male\n",
            "             ...  \n",
            "LP002978    Female\n",
            "LP002979      Male\n",
            "LP002983      Male\n",
            "LP002984      Male\n",
            "LP002990    Female\n",
            "Name: Gender, Length: 614, dtype: category\n",
            "Categories (2, object): ['Female', 'Male']\n",
            "Loan_ID\n",
            "LP001002     No\n",
            "LP001003    Yes\n",
            "LP001005    Yes\n",
            "LP001006    Yes\n",
            "LP001008     No\n",
            "           ... \n",
            "LP002978     No\n",
            "LP002979    Yes\n",
            "LP002983    Yes\n",
            "LP002984    Yes\n",
            "LP002990     No\n",
            "Name: Married, Length: 614, dtype: category\n",
            "Categories (2, object): ['No', 'Yes']\n",
            "Loan_ID\n",
            "LP001002     0\n",
            "LP001003     1\n",
            "LP001005     0\n",
            "LP001006     0\n",
            "LP001008     0\n",
            "            ..\n",
            "LP002978     0\n",
            "LP002979    3+\n",
            "LP002983     1\n",
            "LP002984     2\n",
            "LP002990     0\n",
            "Name: Dependents, Length: 614, dtype: category\n",
            "Categories (4, object): ['0', '1', '2', '3+']\n",
            "Loan_ID\n",
            "LP001002        Graduate\n",
            "LP001003        Graduate\n",
            "LP001005        Graduate\n",
            "LP001006    Not Graduate\n",
            "LP001008        Graduate\n",
            "                ...     \n",
            "LP002978        Graduate\n",
            "LP002979        Graduate\n",
            "LP002983        Graduate\n",
            "LP002984        Graduate\n",
            "LP002990        Graduate\n",
            "Name: Education, Length: 614, dtype: category\n",
            "Categories (2, object): ['Graduate', 'Not Graduate']\n",
            "Loan_ID\n",
            "LP001002     No\n",
            "LP001003     No\n",
            "LP001005    Yes\n",
            "LP001006     No\n",
            "LP001008     No\n",
            "           ... \n",
            "LP002978     No\n",
            "LP002979     No\n",
            "LP002983     No\n",
            "LP002984     No\n",
            "LP002990    Yes\n",
            "Name: Self_Employed, Length: 614, dtype: category\n",
            "Categories (2, object): ['No', 'Yes']\n",
            "Loan_ID\n",
            "LP001002    1.0\n",
            "LP001003    1.0\n",
            "LP001005    1.0\n",
            "LP001006    1.0\n",
            "LP001008    1.0\n",
            "           ... \n",
            "LP002978    1.0\n",
            "LP002979    1.0\n",
            "LP002983    1.0\n",
            "LP002984    1.0\n",
            "LP002990    0.0\n",
            "Name: Credit_History, Length: 614, dtype: category\n",
            "Categories (2, float64): [0.0, 1.0]\n",
            "Loan_ID\n",
            "LP001002        Urban\n",
            "LP001003        Rural\n",
            "LP001005        Urban\n",
            "LP001006        Urban\n",
            "LP001008        Urban\n",
            "              ...    \n",
            "LP002978        Rural\n",
            "LP002979        Rural\n",
            "LP002983        Urban\n",
            "LP002984        Urban\n",
            "LP002990    Semiurban\n",
            "Name: Property_Area, Length: 614, dtype: category\n",
            "Categories (3, object): ['Rural', 'Semiurban', 'Urban']\n",
            "Loan_ID\n",
            "LP001002    Y\n",
            "LP001003    N\n",
            "LP001005    Y\n",
            "LP001006    Y\n",
            "LP001008    Y\n",
            "           ..\n",
            "LP002978    Y\n",
            "LP002979    Y\n",
            "LP002983    Y\n",
            "LP002984    Y\n",
            "LP002990    N\n",
            "Name: Loan_Status, Length: 614, dtype: category\n",
            "Categories (2, object): ['N', 'Y']\n"
          ]
        },
        {
          "output_type": "stream",
          "name": "stderr",
          "text": [
            "/usr/local/lib/python3.7/dist-packages/pandas/io/formats/format.py:1429: FutureWarning: Index.ravel returning ndarray is deprecated; in a future version this will return a view on self.\n",
            "  for val, m in zip(values.ravel(), mask.ravel())\n"
          ]
        }
      ],
      "source": [
        "#changing data type of categorical variables from 'object' to 'categorical'\n",
        "cat_var = train_data1.columns[[0,1,2,3,4,9,10,11]]\n",
        "for col in cat_var:\n",
        "    train_data1[col] = pd.Categorical(train_data1[col])\n",
        "    print(train_data1[col])"
      ]
    },
    {
      "cell_type": "code",
      "execution_count": 10,
      "metadata": {
        "id": "wmZNqtwZs5PB"
      },
      "outputs": [],
      "source": [
        "#changing data type of Applicant_income from 'int to 'float'\n",
        "train_data1[\"Applicant_Income\"] = train_data1[\"Applicant_Income\"].astype('float')"
      ]
    },
    {
      "cell_type": "markdown",
      "metadata": {
        "id": "GbijfayIs5PC"
      },
      "source": [
        "# Data Eploration"
      ]
    },
    {
      "cell_type": "code",
      "execution_count": 11,
      "metadata": {
        "colab": {
          "base_uri": "https://localhost:8080/"
        },
        "id": "LvUtk0LJs5PC",
        "outputId": "588bb71a-85e2-48ac-e2b8-6284eab56102"
      },
      "outputs": [
        {
          "output_type": "stream",
          "name": "stdout",
          "text": [
            "<class 'pandas.core.frame.DataFrame'>\n",
            "Index: 614 entries, LP001002 to LP002990\n",
            "Data columns (total 12 columns):\n",
            " #   Column              Non-Null Count  Dtype   \n",
            "---  ------              --------------  -----   \n",
            " 0   Gender              601 non-null    category\n",
            " 1   Married             611 non-null    category\n",
            " 2   Dependents          599 non-null    category\n",
            " 3   Education           614 non-null    category\n",
            " 4   Self_Employed       582 non-null    category\n",
            " 5   Applicant_Income    614 non-null    float64 \n",
            " 6   Coapplicant_Income  614 non-null    float64 \n",
            " 7   Loan_Amount         592 non-null    float64 \n",
            " 8   Loan_Amount_Term    600 non-null    float64 \n",
            " 9   Credit_History      564 non-null    category\n",
            " 10  Property_Area       614 non-null    category\n",
            " 11  Loan_Status         614 non-null    category\n",
            "dtypes: category(8), float64(4)\n",
            "memory usage: 29.8+ KB\n"
          ]
        }
      ],
      "source": [
        "train_data1.info()"
      ]
    },
    {
      "cell_type": "code",
      "execution_count": 12,
      "metadata": {
        "colab": {
          "base_uri": "https://localhost:8080/",
          "height": 394
        },
        "id": "hExhkS-zs5PD",
        "outputId": "d06bb9dd-84b3-4898-8c8f-d9943b6dd25c"
      },
      "outputs": [
        {
          "output_type": "execute_result",
          "data": {
            "text/plain": [
              "       Gender Married Dependents Education Self_Employed  Applicant_Income  \\\n",
              "count     601     611        599       614           582        614.000000   \n",
              "unique      2       2          4         2             2               NaN   \n",
              "top      Male     Yes          0  Graduate            No               NaN   \n",
              "freq      489     398        345       480           500               NaN   \n",
              "mean      NaN     NaN        NaN       NaN           NaN       5403.459283   \n",
              "std       NaN     NaN        NaN       NaN           NaN       6109.041673   \n",
              "min       NaN     NaN        NaN       NaN           NaN        150.000000   \n",
              "25%       NaN     NaN        NaN       NaN           NaN       2877.500000   \n",
              "50%       NaN     NaN        NaN       NaN           NaN       3812.500000   \n",
              "75%       NaN     NaN        NaN       NaN           NaN       5795.000000   \n",
              "max       NaN     NaN        NaN       NaN           NaN      81000.000000   \n",
              "\n",
              "        Coapplicant_Income  Loan_Amount  Loan_Amount_Term  Credit_History  \\\n",
              "count           614.000000   592.000000         600.00000           564.0   \n",
              "unique                 NaN          NaN               NaN             2.0   \n",
              "top                    NaN          NaN               NaN             1.0   \n",
              "freq                   NaN          NaN               NaN           475.0   \n",
              "mean           1621.245798   146.412162         342.00000             NaN   \n",
              "std            2926.248369    85.587325          65.12041             NaN   \n",
              "min               0.000000     9.000000          12.00000             NaN   \n",
              "25%               0.000000   100.000000         360.00000             NaN   \n",
              "50%            1188.500000   128.000000         360.00000             NaN   \n",
              "75%            2297.250000   168.000000         360.00000             NaN   \n",
              "max           41667.000000   700.000000         480.00000             NaN   \n",
              "\n",
              "       Property_Area Loan_Status  \n",
              "count            614         614  \n",
              "unique             3           2  \n",
              "top        Semiurban           Y  \n",
              "freq             233         422  \n",
              "mean             NaN         NaN  \n",
              "std              NaN         NaN  \n",
              "min              NaN         NaN  \n",
              "25%              NaN         NaN  \n",
              "50%              NaN         NaN  \n",
              "75%              NaN         NaN  \n",
              "max              NaN         NaN  "
            ],
            "text/html": [
              "\n",
              "  <div id=\"df-31e12f11-a5d6-40e0-aee9-3959b694416a\">\n",
              "    <div class=\"colab-df-container\">\n",
              "      <div>\n",
              "<style scoped>\n",
              "    .dataframe tbody tr th:only-of-type {\n",
              "        vertical-align: middle;\n",
              "    }\n",
              "\n",
              "    .dataframe tbody tr th {\n",
              "        vertical-align: top;\n",
              "    }\n",
              "\n",
              "    .dataframe thead th {\n",
              "        text-align: right;\n",
              "    }\n",
              "</style>\n",
              "<table border=\"1\" class=\"dataframe\">\n",
              "  <thead>\n",
              "    <tr style=\"text-align: right;\">\n",
              "      <th></th>\n",
              "      <th>Gender</th>\n",
              "      <th>Married</th>\n",
              "      <th>Dependents</th>\n",
              "      <th>Education</th>\n",
              "      <th>Self_Employed</th>\n",
              "      <th>Applicant_Income</th>\n",
              "      <th>Coapplicant_Income</th>\n",
              "      <th>Loan_Amount</th>\n",
              "      <th>Loan_Amount_Term</th>\n",
              "      <th>Credit_History</th>\n",
              "      <th>Property_Area</th>\n",
              "      <th>Loan_Status</th>\n",
              "    </tr>\n",
              "  </thead>\n",
              "  <tbody>\n",
              "    <tr>\n",
              "      <th>count</th>\n",
              "      <td>601</td>\n",
              "      <td>611</td>\n",
              "      <td>599</td>\n",
              "      <td>614</td>\n",
              "      <td>582</td>\n",
              "      <td>614.000000</td>\n",
              "      <td>614.000000</td>\n",
              "      <td>592.000000</td>\n",
              "      <td>600.00000</td>\n",
              "      <td>564.0</td>\n",
              "      <td>614</td>\n",
              "      <td>614</td>\n",
              "    </tr>\n",
              "    <tr>\n",
              "      <th>unique</th>\n",
              "      <td>2</td>\n",
              "      <td>2</td>\n",
              "      <td>4</td>\n",
              "      <td>2</td>\n",
              "      <td>2</td>\n",
              "      <td>NaN</td>\n",
              "      <td>NaN</td>\n",
              "      <td>NaN</td>\n",
              "      <td>NaN</td>\n",
              "      <td>2.0</td>\n",
              "      <td>3</td>\n",
              "      <td>2</td>\n",
              "    </tr>\n",
              "    <tr>\n",
              "      <th>top</th>\n",
              "      <td>Male</td>\n",
              "      <td>Yes</td>\n",
              "      <td>0</td>\n",
              "      <td>Graduate</td>\n",
              "      <td>No</td>\n",
              "      <td>NaN</td>\n",
              "      <td>NaN</td>\n",
              "      <td>NaN</td>\n",
              "      <td>NaN</td>\n",
              "      <td>1.0</td>\n",
              "      <td>Semiurban</td>\n",
              "      <td>Y</td>\n",
              "    </tr>\n",
              "    <tr>\n",
              "      <th>freq</th>\n",
              "      <td>489</td>\n",
              "      <td>398</td>\n",
              "      <td>345</td>\n",
              "      <td>480</td>\n",
              "      <td>500</td>\n",
              "      <td>NaN</td>\n",
              "      <td>NaN</td>\n",
              "      <td>NaN</td>\n",
              "      <td>NaN</td>\n",
              "      <td>475.0</td>\n",
              "      <td>233</td>\n",
              "      <td>422</td>\n",
              "    </tr>\n",
              "    <tr>\n",
              "      <th>mean</th>\n",
              "      <td>NaN</td>\n",
              "      <td>NaN</td>\n",
              "      <td>NaN</td>\n",
              "      <td>NaN</td>\n",
              "      <td>NaN</td>\n",
              "      <td>5403.459283</td>\n",
              "      <td>1621.245798</td>\n",
              "      <td>146.412162</td>\n",
              "      <td>342.00000</td>\n",
              "      <td>NaN</td>\n",
              "      <td>NaN</td>\n",
              "      <td>NaN</td>\n",
              "    </tr>\n",
              "    <tr>\n",
              "      <th>std</th>\n",
              "      <td>NaN</td>\n",
              "      <td>NaN</td>\n",
              "      <td>NaN</td>\n",
              "      <td>NaN</td>\n",
              "      <td>NaN</td>\n",
              "      <td>6109.041673</td>\n",
              "      <td>2926.248369</td>\n",
              "      <td>85.587325</td>\n",
              "      <td>65.12041</td>\n",
              "      <td>NaN</td>\n",
              "      <td>NaN</td>\n",
              "      <td>NaN</td>\n",
              "    </tr>\n",
              "    <tr>\n",
              "      <th>min</th>\n",
              "      <td>NaN</td>\n",
              "      <td>NaN</td>\n",
              "      <td>NaN</td>\n",
              "      <td>NaN</td>\n",
              "      <td>NaN</td>\n",
              "      <td>150.000000</td>\n",
              "      <td>0.000000</td>\n",
              "      <td>9.000000</td>\n",
              "      <td>12.00000</td>\n",
              "      <td>NaN</td>\n",
              "      <td>NaN</td>\n",
              "      <td>NaN</td>\n",
              "    </tr>\n",
              "    <tr>\n",
              "      <th>25%</th>\n",
              "      <td>NaN</td>\n",
              "      <td>NaN</td>\n",
              "      <td>NaN</td>\n",
              "      <td>NaN</td>\n",
              "      <td>NaN</td>\n",
              "      <td>2877.500000</td>\n",
              "      <td>0.000000</td>\n",
              "      <td>100.000000</td>\n",
              "      <td>360.00000</td>\n",
              "      <td>NaN</td>\n",
              "      <td>NaN</td>\n",
              "      <td>NaN</td>\n",
              "    </tr>\n",
              "    <tr>\n",
              "      <th>50%</th>\n",
              "      <td>NaN</td>\n",
              "      <td>NaN</td>\n",
              "      <td>NaN</td>\n",
              "      <td>NaN</td>\n",
              "      <td>NaN</td>\n",
              "      <td>3812.500000</td>\n",
              "      <td>1188.500000</td>\n",
              "      <td>128.000000</td>\n",
              "      <td>360.00000</td>\n",
              "      <td>NaN</td>\n",
              "      <td>NaN</td>\n",
              "      <td>NaN</td>\n",
              "    </tr>\n",
              "    <tr>\n",
              "      <th>75%</th>\n",
              "      <td>NaN</td>\n",
              "      <td>NaN</td>\n",
              "      <td>NaN</td>\n",
              "      <td>NaN</td>\n",
              "      <td>NaN</td>\n",
              "      <td>5795.000000</td>\n",
              "      <td>2297.250000</td>\n",
              "      <td>168.000000</td>\n",
              "      <td>360.00000</td>\n",
              "      <td>NaN</td>\n",
              "      <td>NaN</td>\n",
              "      <td>NaN</td>\n",
              "    </tr>\n",
              "    <tr>\n",
              "      <th>max</th>\n",
              "      <td>NaN</td>\n",
              "      <td>NaN</td>\n",
              "      <td>NaN</td>\n",
              "      <td>NaN</td>\n",
              "      <td>NaN</td>\n",
              "      <td>81000.000000</td>\n",
              "      <td>41667.000000</td>\n",
              "      <td>700.000000</td>\n",
              "      <td>480.00000</td>\n",
              "      <td>NaN</td>\n",
              "      <td>NaN</td>\n",
              "      <td>NaN</td>\n",
              "    </tr>\n",
              "  </tbody>\n",
              "</table>\n",
              "</div>\n",
              "      <button class=\"colab-df-convert\" onclick=\"convertToInteractive('df-31e12f11-a5d6-40e0-aee9-3959b694416a')\"\n",
              "              title=\"Convert this dataframe to an interactive table.\"\n",
              "              style=\"display:none;\">\n",
              "        \n",
              "  <svg xmlns=\"http://www.w3.org/2000/svg\" height=\"24px\"viewBox=\"0 0 24 24\"\n",
              "       width=\"24px\">\n",
              "    <path d=\"M0 0h24v24H0V0z\" fill=\"none\"/>\n",
              "    <path d=\"M18.56 5.44l.94 2.06.94-2.06 2.06-.94-2.06-.94-.94-2.06-.94 2.06-2.06.94zm-11 1L8.5 8.5l.94-2.06 2.06-.94-2.06-.94L8.5 2.5l-.94 2.06-2.06.94zm10 10l.94 2.06.94-2.06 2.06-.94-2.06-.94-.94-2.06-.94 2.06-2.06.94z\"/><path d=\"M17.41 7.96l-1.37-1.37c-.4-.4-.92-.59-1.43-.59-.52 0-1.04.2-1.43.59L10.3 9.45l-7.72 7.72c-.78.78-.78 2.05 0 2.83L4 21.41c.39.39.9.59 1.41.59.51 0 1.02-.2 1.41-.59l7.78-7.78 2.81-2.81c.8-.78.8-2.07 0-2.86zM5.41 20L4 18.59l7.72-7.72 1.47 1.35L5.41 20z\"/>\n",
              "  </svg>\n",
              "      </button>\n",
              "      \n",
              "  <style>\n",
              "    .colab-df-container {\n",
              "      display:flex;\n",
              "      flex-wrap:wrap;\n",
              "      gap: 12px;\n",
              "    }\n",
              "\n",
              "    .colab-df-convert {\n",
              "      background-color: #E8F0FE;\n",
              "      border: none;\n",
              "      border-radius: 50%;\n",
              "      cursor: pointer;\n",
              "      display: none;\n",
              "      fill: #1967D2;\n",
              "      height: 32px;\n",
              "      padding: 0 0 0 0;\n",
              "      width: 32px;\n",
              "    }\n",
              "\n",
              "    .colab-df-convert:hover {\n",
              "      background-color: #E2EBFA;\n",
              "      box-shadow: 0px 1px 2px rgba(60, 64, 67, 0.3), 0px 1px 3px 1px rgba(60, 64, 67, 0.15);\n",
              "      fill: #174EA6;\n",
              "    }\n",
              "\n",
              "    [theme=dark] .colab-df-convert {\n",
              "      background-color: #3B4455;\n",
              "      fill: #D2E3FC;\n",
              "    }\n",
              "\n",
              "    [theme=dark] .colab-df-convert:hover {\n",
              "      background-color: #434B5C;\n",
              "      box-shadow: 0px 1px 3px 1px rgba(0, 0, 0, 0.15);\n",
              "      filter: drop-shadow(0px 1px 2px rgba(0, 0, 0, 0.3));\n",
              "      fill: #FFFFFF;\n",
              "    }\n",
              "  </style>\n",
              "\n",
              "      <script>\n",
              "        const buttonEl =\n",
              "          document.querySelector('#df-31e12f11-a5d6-40e0-aee9-3959b694416a button.colab-df-convert');\n",
              "        buttonEl.style.display =\n",
              "          google.colab.kernel.accessAllowed ? 'block' : 'none';\n",
              "\n",
              "        async function convertToInteractive(key) {\n",
              "          const element = document.querySelector('#df-31e12f11-a5d6-40e0-aee9-3959b694416a');\n",
              "          const dataTable =\n",
              "            await google.colab.kernel.invokeFunction('convertToInteractive',\n",
              "                                                     [key], {});\n",
              "          if (!dataTable) return;\n",
              "\n",
              "          const docLinkHtml = 'Like what you see? Visit the ' +\n",
              "            '<a target=\"_blank\" href=https://colab.research.google.com/notebooks/data_table.ipynb>data table notebook</a>'\n",
              "            + ' to learn more about interactive tables.';\n",
              "          element.innerHTML = '';\n",
              "          dataTable['output_type'] = 'display_data';\n",
              "          await google.colab.output.renderOutput(dataTable, element);\n",
              "          const docLink = document.createElement('div');\n",
              "          docLink.innerHTML = docLinkHtml;\n",
              "          element.appendChild(docLink);\n",
              "        }\n",
              "      </script>\n",
              "    </div>\n",
              "  </div>\n",
              "  "
            ]
          },
          "metadata": {},
          "execution_count": 12
        }
      ],
      "source": [
        "train_data1.describe(include = 'all')"
      ]
    },
    {
      "cell_type": "code",
      "execution_count": 13,
      "metadata": {
        "colab": {
          "base_uri": "https://localhost:8080/"
        },
        "id": "rMFZb85Qs5PE",
        "outputId": "f7861140-1c5e-44ef-bcec-fc7a1c648d7a"
      },
      "outputs": [
        {
          "output_type": "stream",
          "name": "stdout",
          "text": [
            "Frequency Table for variable 'Gender' : \n",
            " Loan_Status         N         Y       All\n",
            "Gender                                   \n",
            "Female       0.061564  0.124792  0.186356\n",
            "Male         0.249584  0.564060  0.813644\n",
            "All          0.311148  0.688852  1.000000 \n",
            "\n",
            "Frequency Table for variable 'Married' : \n",
            " Loan_Status         N         Y       All\n",
            "Married                                  \n",
            "No           0.129296  0.219313  0.348609\n",
            "Yes          0.184943  0.466448  0.651391\n",
            "All          0.314239  0.685761  1.000000 \n",
            "\n",
            "Frequency Table for variable 'Dependents' : \n",
            " Loan_Status         N         Y       All\n",
            "Dependents                               \n",
            "0            0.178631  0.397329  0.575960\n",
            "1            0.060100  0.110184  0.170284\n",
            "2            0.041736  0.126878  0.168614\n",
            "3+           0.030050  0.055092  0.085142\n",
            "All          0.310518  0.689482  1.000000 \n",
            "\n",
            "Frequency Table for variable 'Education' : \n",
            " Loan_Status          N         Y       All\n",
            "Education                                 \n",
            "Graduate      0.228013  0.553746  0.781759\n",
            "Not Graduate  0.084691  0.133550  0.218241\n",
            "All           0.312704  0.687296  1.000000 \n",
            "\n",
            "Frequency Table for variable 'Self_Employed' : \n",
            " Loan_Status           N         Y       All\n",
            "Self_Employed                              \n",
            "No             0.269759  0.589347  0.859107\n",
            "Yes            0.044674  0.096220  0.140893\n",
            "All            0.314433  0.685567  1.000000 \n",
            "\n",
            "Frequency Table for variable 'Credit_History' : \n",
            " Loan_Status            N         Y       All\n",
            "Credit_History                              \n",
            "0.0             0.145390  0.012411  0.157801\n",
            "1.0             0.171986  0.670213  0.842199\n",
            "All             0.317376  0.682624  1.000000 \n",
            "\n",
            "Frequency Table for variable 'Property_Area' : \n",
            " Loan_Status           N         Y       All\n",
            "Property_Area                              \n",
            "Rural          0.112378  0.179153  0.291531\n",
            "Semiurban      0.087948  0.291531  0.379479\n",
            "Urban          0.112378  0.216612  0.328990\n",
            "All            0.312704  0.687296  1.000000 \n",
            "\n"
          ]
        }
      ],
      "source": [
        "#frequency table of categorical variables w.r.t loan status\n",
        "cat_var = train_data1.columns[[0,1,2,3,4,9,10]]\n",
        "for col in cat_var :\n",
        "    output = pd.crosstab(index = train_data1[col], columns = train_data1['Loan_Status'], margins = True, normalize = True)\n",
        "    print(f\"Frequency Table for variable '{col}' : \\n {output} \\n\")"
      ]
    },
    {
      "cell_type": "markdown",
      "metadata": {
        "id": "1iyouT_Ys5PG"
      },
      "source": [
        "# Visualizing data"
      ]
    },
    {
      "cell_type": "code",
      "execution_count": 14,
      "metadata": {
        "colab": {
          "base_uri": "https://localhost:8080/",
          "height": 1000
        },
        "id": "4wZIO3Nhs5PI",
        "outputId": "2c3f2f86-5ff5-4855-975c-7005c840e33e"
      },
      "outputs": [
        {
          "output_type": "display_data",
          "data": {
            "text/plain": [
              "<Figure size 432x288 with 1 Axes>"
            ],
            "image/png": "[encoded data removed]"
          },
          "metadata": {
            "needs_background": "light"
          }
        },
        {
          "output_type": "display_data",
          "data": {
            "text/plain": [
              "<Figure size 432x288 with 1 Axes>"
            ],
            "image/png": "[encoded data removed]"
          },
          "metadata": {
            "needs_background": "light"
          }
        },
        {
          "output_type": "display_data",
          "data": {
            "text/plain": [
              "<Figure size 432x288 with 1 Axes>"
            ],
            "image/png": "[encoded data removed]"
          },
          "metadata": {
            "needs_background": "light"
          }
        },
        {
          "output_type": "display_data",
          "data": {
            "text/plain": [
              "<Figure size 432x288 with 1 Axes>"
            ],
            "image/png": "[encoded data removed]"
          },
          "metadata": {
            "needs_background": "light"
          }
        },
        {
          "output_type": "display_data",
          "data": {
            "text/plain": [
              "<Figure size 432x288 with 1 Axes>"
            ],
            "image/png": "[encoded data removed]"
          },
          "metadata": {
            "needs_background": "light"
          }
        },
        {
          "output_type": "display_data",
          "data": {
            "text/plain": [
              "<Figure size 432x288 with 1 Axes>"
            ],
            "image/png": "[encoded data removed]"
          },
          "metadata": {
            "needs_background": "light"
          }
        },
        {
          "output_type": "display_data",
          "data": {
            "text/plain": [
              "<Figure size 432x288 with 1 Axes>"
            ],
            "image/png": "[encoded data removed]"
          },
          "metadata": {
            "needs_background": "light"
          }
        }
      ],
      "source": [
        "cat_var = train_data1.columns[[0,1,2,3,4,9,10]]\n",
        "for col in cat_var :\n",
        "    pd.crosstab(index = train_data1[col], columns = train_data1['Loan_Status']).plot(kind = 'bar')\n",
        "    plt.title(f'{col} vs Loan_status')\n",
        "    plt.ylabel('Frequency')"
      ]
    },
    {
      "cell_type": "code",
      "execution_count": 15,
      "metadata": {
        "colab": {
          "base_uri": "https://localhost:8080/",
          "height": 298
        },
        "id": "P7W2Gupes5PK",
        "outputId": "32c40101-e9b0-4114-fc33-e76b14faadb9"
      },
      "outputs": [
        {
          "output_type": "execute_result",
          "data": {
            "text/plain": [
              "<matplotlib.axes._subplots.AxesSubplot at 0x7f3295c822d0>"
            ]
          },
          "metadata": {},
          "execution_count": 15
        },
        {
          "output_type": "display_data",
          "data": {
            "text/plain": [
              "<Figure size 432x288 with 1 Axes>"
            ],
            "image/png": "[encoded data removed]"
          },
          "metadata": {
            "needs_background": "light"
          }
        }
      ],
      "source": [
        "#understanding relationship of continous independent variables with dependent variable(Loan_Satus)\n",
        "sns.boxplot(y = 'Applicant_Income', x = 'Loan_Status', data = train_data1)"
      ]
    },
    {
      "cell_type": "code",
      "execution_count": 16,
      "metadata": {
        "colab": {
          "base_uri": "https://localhost:8080/",
          "height": 298
        },
        "id": "8O0TCrB6s5PL",
        "outputId": "abb0bf9d-d836-4c07-db51-e28b1c0f448f"
      },
      "outputs": [
        {
          "output_type": "execute_result",
          "data": {
            "text/plain": [
              "<matplotlib.axes._subplots.AxesSubplot at 0x7f32957bd150>"
            ]
          },
          "metadata": {},
          "execution_count": 16
        },
        {
          "output_type": "display_data",
          "data": {
            "text/plain": [
              "<Figure size 432x288 with 1 Axes>"
            ],
            "image/png": "[encoded data removed]"
          },
          "metadata": {
            "needs_background": "light"
          }
        }
      ],
      "source": [
        "sns.boxplot(y = 'Coapplicant_Income', x = 'Loan_Status', data = train_data1)"
      ]
    },
    {
      "cell_type": "code",
      "execution_count": 17,
      "metadata": {
        "colab": {
          "base_uri": "https://localhost:8080/",
          "height": 298
        },
        "id": "KBU5hy9Ks5PM",
        "outputId": "aacbe834-a528-451c-8f59-ceefb03746bc"
      },
      "outputs": [
        {
          "output_type": "execute_result",
          "data": {
            "text/plain": [
              "<matplotlib.axes._subplots.AxesSubplot at 0x7f329573d910>"
            ]
          },
          "metadata": {},
          "execution_count": 17
        },
        {
          "output_type": "display_data",
          "data": {
            "text/plain": [
              "<Figure size 432x288 with 1 Axes>"
            ],
            "image/png": "[encoded data removed]"
          },
          "metadata": {
            "needs_background": "light"
          }
        }
      ],
      "source": [
        "sns.boxplot(y = 'Loan_Amount', x = 'Loan_Status', data = train_data1)"
      ]
    },
    {
      "cell_type": "code",
      "execution_count": 18,
      "metadata": {
        "id": "jzRT-l4os5PN"
      },
      "outputs": [],
      "source": [
        "#deleted rows where values in Credit History column are missing\n",
        "drop_rows = train_data1[train_data1['Credit_History'].isnull()].index\n",
        "train_data1.drop(labels = drop_rows, axis = 0, inplace = True)"
      ]
    },
    {
      "cell_type": "code",
      "execution_count": 19,
      "metadata": {
        "colab": {
          "base_uri": "https://localhost:8080/"
        },
        "id": "pE56vEVSs5PO",
        "outputId": "04c691cb-1032-4f5f-a1eb-f1bfd926cc4a"
      },
      "outputs": [
        {
          "output_type": "stream",
          "name": "stdout",
          "text": [
            "<class 'pandas.core.frame.DataFrame'>\n",
            "Index: 564 entries, LP001002 to LP002990\n",
            "Data columns (total 12 columns):\n",
            " #   Column              Non-Null Count  Dtype   \n",
            "---  ------              --------------  -----   \n",
            " 0   Gender              552 non-null    category\n",
            " 1   Married             561 non-null    category\n",
            " 2   Dependents          549 non-null    category\n",
            " 3   Education           564 non-null    category\n",
            " 4   Self_Employed       538 non-null    category\n",
            " 5   Applicant_Income    564 non-null    float64 \n",
            " 6   Coapplicant_Income  564 non-null    float64 \n",
            " 7   Loan_Amount         543 non-null    float64 \n",
            " 8   Loan_Amount_Term    550 non-null    float64 \n",
            " 9   Credit_History      564 non-null    category\n",
            " 10  Property_Area       564 non-null    category\n",
            " 11  Loan_Status         564 non-null    category\n",
            "dtypes: category(8), float64(4)\n",
            "memory usage: 27.5+ KB\n"
          ]
        }
      ],
      "source": [
        "train_data1.info()"
      ]
    },
    {
      "cell_type": "code",
      "execution_count": 20,
      "metadata": {
        "colab": {
          "base_uri": "https://localhost:8080/"
        },
        "id": "onvq-Jeks5PP",
        "outputId": "45c7103c-229b-4107-f478-41d4214ce421"
      },
      "outputs": [
        {
          "output_type": "execute_result",
          "data": {
            "text/plain": [
              "149.03550295857988"
            ]
          },
          "metadata": {},
          "execution_count": 20
        }
      ],
      "source": [
        "train_data1.loc[train_data1['Loan_Status'] == 'N', 'Loan_Amount'].mean()"
      ]
    },
    {
      "cell_type": "code",
      "execution_count": 21,
      "metadata": {
        "colab": {
          "base_uri": "https://localhost:8080/"
        },
        "id": "jZAZ_lUVs5PP",
        "outputId": "97fcb81e-b4e3-4c97-b5ba-666b5221f629"
      },
      "outputs": [
        {
          "output_type": "execute_result",
          "data": {
            "text/plain": [
              "count    374.000000\n",
              "mean     143.304813\n",
              "std       82.159024\n",
              "min       17.000000\n",
              "25%      100.000000\n",
              "50%      127.000000\n",
              "75%      161.750000\n",
              "max      700.000000\n",
              "Name: Loan_Amount, dtype: float64"
            ]
          },
          "metadata": {},
          "execution_count": 21
        }
      ],
      "source": [
        "train_data1.loc[train_data1['Loan_Status'] == 'Y', 'Loan_Amount'].describe()"
      ]
    },
    {
      "cell_type": "code",
      "execution_count": 22,
      "metadata": {
        "colab": {
          "base_uri": "https://localhost:8080/"
        },
        "id": "z2bzScKOs5PQ",
        "outputId": "461751d2-cdb0-4bbc-8b3f-21957fb81788"
      },
      "outputs": [
        {
          "output_type": "execute_result",
          "data": {
            "text/plain": [
              "array([360., 120.,  nan, 180.,  60., 300., 480., 240.,  36.,  84.])"
            ]
          },
          "metadata": {},
          "execution_count": 22
        }
      ],
      "source": [
        "train_data1['Loan_Amount_Term'].unique()"
      ]
    },
    {
      "cell_type": "markdown",
      "metadata": {
        "id": "iMX4r2Xrs5PR"
      },
      "source": [
        "Filling missing values\n",
        " "
      ]
    },
    {
      "cell_type": "code",
      "execution_count": 23,
      "metadata": {
        "id": "XFMy3rYRs5PS"
      },
      "outputs": [],
      "source": [
        "train_data1['Gender'].fillna(value = \"Male\", axis = 0, inplace = True)\n",
        "\n",
        "train_data1['Married'].fillna(value = \"Yes\", axis = 0, inplace = True)\n",
        "\n",
        "train_data1['Dependents'].fillna(value = '0', axis = 0, inplace = True)\n",
        "\n",
        "train_data1['Self_Employed'].fillna(value = 'No', axis = 0, inplace = True)\n",
        "\n",
        "train_data1['Loan_Amount'].fillna(value = 143.0, axis = 0, inplace = True)\n",
        "\n",
        "train_data1['Loan_Amount_Term'].fillna(value = 360.0, axis = 0, inplace = True)"
      ]
    },
    {
      "cell_type": "markdown",
      "metadata": {
        "id": "ZdJEu7j0s5PS"
      },
      "source": [
        "# Implementing Model"
      ]
    },
    {
      "cell_type": "code",
      "execution_count": 24,
      "metadata": {
        "id": "IBlXidlOs5PT"
      },
      "outputs": [],
      "source": [
        "from sklearn.linear_model import LogisticRegression\n",
        "from sklearn.metrics import classification_report, confusion_matrix, accuracy_score"
      ]
    },
    {
      "cell_type": "code",
      "execution_count": 25,
      "metadata": {
        "id": "V2UakU5hs5PT"
      },
      "outputs": [],
      "source": [
        "import statsmodels.api as sm"
      ]
    },
    {
      "cell_type": "code",
      "execution_count": 26,
      "metadata": {
        "id": "XV8mzdQks5PU"
      },
      "outputs": [],
      "source": [
        "train_data1['Credit_History'] = train_data1['Credit_History'].astype('uint8')"
      ]
    },
    {
      "cell_type": "code",
      "execution_count": 27,
      "metadata": {
        "id": "9bQ8fRXNs5PU"
      },
      "outputs": [],
      "source": [
        "#creating dummy varibles to translate arbitarary text data into numerical data\n",
        "cat_vars = ['Gender', 'Married', 'Dependents', 'Education', 'Self_Employed', 'Property_Area', 'Loan_Status']\n",
        "for var in cat_vars:\n",
        "    cat_list='var'+'_'+var\n",
        "    cat_list = pd.get_dummies(train_data1[var], prefix=var)\n",
        "    data1 = train_data1.join(cat_list)\n",
        "    train_data1 = data1"
      ]
    },
    {
      "cell_type": "code",
      "execution_count": 28,
      "metadata": {
        "colab": {
          "base_uri": "https://localhost:8080/"
        },
        "id": "DZMBQuITs5PU",
        "outputId": "0d5c8469-a166-459a-9cb0-b5388a2d5df3"
      },
      "outputs": [
        {
          "output_type": "stream",
          "name": "stdout",
          "text": [
            "<class 'pandas.core.frame.DataFrame'>\n",
            "Index: 564 entries, LP001002 to LP002990\n",
            "Data columns (total 29 columns):\n",
            " #   Column                   Non-Null Count  Dtype   \n",
            "---  ------                   --------------  -----   \n",
            " 0   Gender                   564 non-null    category\n",
            " 1   Married                  564 non-null    category\n",
            " 2   Dependents               564 non-null    category\n",
            " 3   Education                564 non-null    category\n",
            " 4   Self_Employed            564 non-null    category\n",
            " 5   Applicant_Income         564 non-null    float64 \n",
            " 6   Coapplicant_Income       564 non-null    float64 \n",
            " 7   Loan_Amount              564 non-null    float64 \n",
            " 8   Loan_Amount_Term         564 non-null    float64 \n",
            " 9   Credit_History           564 non-null    uint8   \n",
            " 10  Property_Area            564 non-null    category\n",
            " 11  Loan_Status              564 non-null    category\n",
            " 12  Gender_Female            564 non-null    uint8   \n",
            " 13  Gender_Male              564 non-null    uint8   \n",
            " 14  Married_No               564 non-null    uint8   \n",
            " 15  Married_Yes              564 non-null    uint8   \n",
            " 16  Dependents_0             564 non-null    uint8   \n",
            " 17  Dependents_1             564 non-null    uint8   \n",
            " 18  Dependents_2             564 non-null    uint8   \n",
            " 19  Dependents_3+            564 non-null    uint8   \n",
            " 20  Education_Graduate       564 non-null    uint8   \n",
            " 21  Education_Not Graduate   564 non-null    uint8   \n",
            " 22  Self_Employed_No         564 non-null    uint8   \n",
            " 23  Self_Employed_Yes        564 non-null    uint8   \n",
            " 24  Property_Area_Rural      564 non-null    uint8   \n",
            " 25  Property_Area_Semiurban  564 non-null    uint8   \n",
            " 26  Property_Area_Urban      564 non-null    uint8   \n",
            " 27  Loan_Status_N            564 non-null    uint8   \n",
            " 28  Loan_Status_Y            564 non-null    uint8   \n",
            "dtypes: category(7), float64(4), uint8(18)\n",
            "memory usage: 52.9+ KB\n"
          ]
        }
      ],
      "source": [
        "train_data1.info()"
      ]
    },
    {
      "cell_type": "code",
      "execution_count": 29,
      "metadata": {
        "id": "vrwiiWuds5PV"
      },
      "outputs": [],
      "source": [
        "to_keep = train_data1.columns[[5,6,7,8,9,13,15,17,18,19,20,23,25,26,28]]"
      ]
    },
    {
      "cell_type": "code",
      "execution_count": 30,
      "metadata": {
        "id": "MyL0oQJTs5PV"
      },
      "outputs": [],
      "source": [
        "data_final = train_data1[to_keep]"
      ]
    },
    {
      "cell_type": "code",
      "execution_count": 31,
      "metadata": {
        "colab": {
          "base_uri": "https://localhost:8080/"
        },
        "id": "ATC8PueJs5PW",
        "outputId": "f29c230f-bf9b-4e64-fd4d-6ff73f87c24a"
      },
      "outputs": [
        {
          "output_type": "stream",
          "name": "stdout",
          "text": [
            "<class 'pandas.core.frame.DataFrame'>\n",
            "Index: 564 entries, LP001002 to LP002990\n",
            "Data columns (total 15 columns):\n",
            " #   Column                   Non-Null Count  Dtype  \n",
            "---  ------                   --------------  -----  \n",
            " 0   Applicant_Income         564 non-null    float64\n",
            " 1   Coapplicant_Income       564 non-null    float64\n",
            " 2   Loan_Amount              564 non-null    float64\n",
            " 3   Loan_Amount_Term         564 non-null    float64\n",
            " 4   Credit_History           564 non-null    uint8  \n",
            " 5   Gender_Male              564 non-null    uint8  \n",
            " 6   Married_Yes              564 non-null    uint8  \n",
            " 7   Dependents_1             564 non-null    uint8  \n",
            " 8   Dependents_2             564 non-null    uint8  \n",
            " 9   Dependents_3+            564 non-null    uint8  \n",
            " 10  Education_Graduate       564 non-null    uint8  \n",
            " 11  Self_Employed_Yes        564 non-null    uint8  \n",
            " 12  Property_Area_Semiurban  564 non-null    uint8  \n",
            " 13  Property_Area_Urban      564 non-null    uint8  \n",
            " 14  Loan_Status_Y            564 non-null    uint8  \n",
            "dtypes: float64(4), uint8(11)\n",
            "memory usage: 44.3+ KB\n"
          ]
        }
      ],
      "source": [
        "data_final.info()"
      ]
    },
    {
      "cell_type": "markdown",
      "metadata": {
        "id": "I0Ay1EERs5PX"
      },
      "source": [
        "# Train Data"
      ]
    },
    {
      "cell_type": "code",
      "execution_count": 32,
      "metadata": {
        "id": "tCKecdsks5PX"
      },
      "outputs": [],
      "source": [
        "X = data_final.drop('Loan_Status_Y', axis = 1)\n",
        "y = data_final['Loan_Status_Y']"
      ]
    },
    {
      "cell_type": "code",
      "execution_count": 33,
      "metadata": {
        "id": "q3EoORPgs5PY"
      },
      "outputs": [],
      "source": [
        "from sklearn.model_selection import train_test_split"
      ]
    },
    {
      "cell_type": "code",
      "execution_count": 34,
      "metadata": {
        "id": "O0Br9zgas5PY"
      },
      "outputs": [],
      "source": [
        "X_train, X_test, y_train, y_test = train_test_split(X, y, test_size = 0.2, random_state = 1)"
      ]
    },
    {
      "cell_type": "code",
      "execution_count": 35,
      "metadata": {
        "id": "oqLOueX_s5PZ"
      },
      "outputs": [],
      "source": [
        "model = LogisticRegression(solver='liblinear', C=10.0, random_state=0)"
      ]
    },
    {
      "cell_type": "code",
      "execution_count": 36,
      "metadata": {
        "colab": {
          "base_uri": "https://localhost:8080/"
        },
        "id": "RCDsro4xs5PZ",
        "outputId": "7d67a35f-6121-4906-89c9-3710bb6de3e1"
      },
      "outputs": [
        {
          "output_type": "execute_result",
          "data": {
            "text/plain": [
              "LogisticRegression(C=10.0, random_state=0, solver='liblinear')"
            ]
          },
          "metadata": {},
          "execution_count": 36
        }
      ],
      "source": [
        "model.fit(X_train, y_train)"
      ]
    },
    {
      "cell_type": "code",
      "execution_count": 37,
      "metadata": {
        "colab": {
          "base_uri": "https://localhost:8080/"
        },
        "id": "tVE49svns5Pa",
        "outputId": "a0a884c3-2f7e-49cd-ab33-5219a7c873d2"
      },
      "outputs": [
        {
          "output_type": "stream",
          "name": "stdout",
          "text": [
            "Intercept is [-2.41960604]\n"
          ]
        }
      ],
      "source": [
        "intercept = model.intercept_\n",
        "print(f'Intercept is {intercept}')"
      ]
    },
    {
      "cell_type": "code",
      "execution_count": 38,
      "metadata": {
        "colab": {
          "base_uri": "https://localhost:8080/"
        },
        "id": "Qzzan7rUs5Pa",
        "outputId": "e98c3cbb-702a-4596-f44b-fe1e2dcef1cb"
      },
      "outputs": [
        {
          "output_type": "stream",
          "name": "stdout",
          "text": [
            "Coefficents are : \n",
            "        Independent variable  coefficents\n",
            "0          Applicant_Income     0.000013\n",
            "1        Coapplicant_Income    -0.000051\n",
            "2               Loan_Amount    -0.002224\n",
            "3          Loan_Amount_Term    -0.002296\n",
            "4            Credit_History     3.832908\n",
            "5               Gender_Male     0.161857\n",
            "6               Married_Yes     0.436280\n",
            "7              Dependents_1     0.274413\n",
            "8              Dependents_2     0.429908\n",
            "9             Dependents_3+     0.445689\n",
            "10       Education_Graduate     0.472389\n",
            "11        Self_Employed_Yes    -0.133012\n",
            "12  Property_Area_Semiurban     0.718933\n",
            "13      Property_Area_Urban    -0.251351\n"
          ]
        }
      ],
      "source": [
        "coef = model.coef_.reshape(14,)\n",
        "coefficents_df = pd.DataFrame({'Independent variable': X_train.columns})\n",
        "coefficents_df['coefficents'] = coef\n",
        "print(f'Coefficents are : \\n {coefficents_df}')"
      ]
    },
    {
      "cell_type": "markdown",
      "metadata": {
        "id": "RWGHnQ67s5Pa"
      },
      "source": [
        "# Evaluate the Mode"
      ]
    },
    {
      "cell_type": "code",
      "execution_count": 39,
      "metadata": {
        "id": "OAoZEGr4s5Pb"
      },
      "outputs": [],
      "source": [
        "p_pred = model.predict_proba(X_test)"
      ]
    },
    {
      "cell_type": "code",
      "execution_count": 40,
      "metadata": {
        "id": "zER1RqXrs5Pb"
      },
      "outputs": [],
      "source": [
        "predictions = model.predict(X_test)"
      ]
    },
    {
      "cell_type": "code",
      "execution_count": 41,
      "metadata": {
        "colab": {
          "base_uri": "https://localhost:8080/"
        },
        "id": "TQwK_48_s5Pc",
        "outputId": "7d5595d1-c0f5-4ff2-9f78-166e8f6fc70d"
      },
      "outputs": [
        {
          "output_type": "stream",
          "name": "stdout",
          "text": [
            "Accuracy Score of model is : 0.8230088495575221\n"
          ]
        }
      ],
      "source": [
        "acc_score = accuracy_score(y_test, predictions)\n",
        "print(f'Accuracy Score of model is : {acc_score}')"
      ]
    },
    {
      "cell_type": "raw",
      "metadata": {
        "id": "BsiFg5BFs5Pc"
      },
      "source": [
        "Confusion Matrix :"
      ]
    },
    {
      "cell_type": "code",
      "execution_count": 42,
      "metadata": {
        "colab": {
          "base_uri": "https://localhost:8080/",
          "height": 483
        },
        "id": "unyyFFUIs5Pc",
        "outputId": "67305ac9-ef64-4fc5-89e1-5a0a1f795931"
      },
      "outputs": [
        {
          "output_type": "display_data",
          "data": {
            "text/plain": [
              "<Figure size 576x576 with 1 Axes>"
            ],
            "image/png": "[encoded data removed]"
          },
          "metadata": {
            "needs_background": "light"
          }
        }
      ],
      "source": [
        "conf_m = confusion_matrix(y_test, predictions)\n",
        "\n",
        "#confusion matrix plotting\n",
        "fig, ax = plt.subplots(figsize=(8, 8))\n",
        "ax.imshow(conf_m)\n",
        "ax.grid(False)\n",
        "ax.xaxis.set(ticks=(0, 1), ticklabels=('Predicted 0s', 'Predicted 1s'))\n",
        "ax.yaxis.set(ticks=(0, 1), ticklabels=('Actual 0s', 'Actual 1s'))\n",
        "ax.set_ylim(1.5, -0.5)\n",
        "for i in range(2):\n",
        "    for j in range(2):\n",
        "        ax.text(j, i, conf_m[i, j], ha='center', va='center', color='red')\n",
        "plt.show()"
      ]
    },
    {
      "cell_type": "code",
      "execution_count": 43,
      "metadata": {
        "colab": {
          "base_uri": "https://localhost:8080/"
        },
        "id": "tMhzBQFrs5Pd",
        "outputId": "3351c090-aa19-4705-d0d0-f8afbde2bb20"
      },
      "outputs": [
        {
          "output_type": "execute_result",
          "data": {
            "text/plain": [
              "0.8156028368794326"
            ]
          },
          "metadata": {},
          "execution_count": 43
        }
      ],
      "source": [
        "model.score(X,y)"
      ]
    },
    {
      "cell_type": "code",
      "execution_count": 44,
      "metadata": {
        "colab": {
          "base_uri": "https://localhost:8080/"
        },
        "id": "R52xZdRYs5Pd",
        "outputId": "26c0771a-5a1e-4767-8077-ea2326922b92"
      },
      "outputs": [
        {
          "output_type": "stream",
          "name": "stdout",
          "text": [
            "Classification report is : \n",
            "               precision    recall  f1-score   support\n",
            "\n",
            "           0       0.88      0.45      0.60        33\n",
            "           1       0.81      0.97      0.89        80\n",
            "\n",
            "    accuracy                           0.82       113\n",
            "   macro avg       0.85      0.71      0.74       113\n",
            "weighted avg       0.83      0.82      0.80       113\n",
            "\n"
          ]
        }
      ],
      "source": [
        "report = classification_report(y_test, predictions)\n",
        "print(f'Classification report is : \\n {report}')"
      ]
    },
    {
      "cell_type": "markdown",
      "metadata": {
        "id": "aAIPVlCVs5Pe"
      },
      "source": [
        "# Test Data"
      ]
    },
    {
      "cell_type": "code",
      "execution_count": 45,
      "metadata": {
        "id": "3QZzchqXs5Pe"
      },
      "outputs": [],
      "source": [
        "test_data1 = pd.read_csv(\"test.csv\")    "
      ]
    },
    {
      "cell_type": "code",
      "execution_count": 46,
      "metadata": {
        "id": "6BjXsyR7s5Pe"
      },
      "outputs": [],
      "source": [
        "test_data = test_data1.copy()"
      ]
    },
    {
      "cell_type": "code",
      "execution_count": 47,
      "metadata": {
        "colab": {
          "base_uri": "https://localhost:8080/",
          "height": 206
        },
        "id": "ZpMa6lbps5Pf",
        "outputId": "64c1c6e7-10ad-423e-eac4-d347207ee0d6"
      },
      "outputs": [
        {
          "output_type": "execute_result",
          "data": {
            "text/plain": [
              "    Loan_ID Gender Married Dependents     Education Self_Employed  \\\n",
              "0  LP001015   Male     Yes          0      Graduate            No   \n",
              "1  LP001022   Male     Yes          1      Graduate            No   \n",
              "2  LP001031   Male     Yes          2      Graduate            No   \n",
              "3  LP001035   Male     Yes          2      Graduate            No   \n",
              "4  LP001051   Male      No          0  Not Graduate            No   \n",
              "\n",
              "   ApplicantIncome  CoapplicantIncome  LoanAmount  Loan_Amount_Term  \\\n",
              "0             5720                  0       110.0             360.0   \n",
              "1             3076               1500       126.0             360.0   \n",
              "2             5000               1800       208.0             360.0   \n",
              "3             2340               2546       100.0             360.0   \n",
              "4             3276                  0        78.0             360.0   \n",
              "\n",
              "   Credit_History Property_Area  \n",
              "0             1.0         Urban  \n",
              "1             1.0         Urban  \n",
              "2             1.0         Urban  \n",
              "3             NaN         Urban  \n",
              "4             1.0         Urban  "
            ],
            "text/html": [
              "\n",
              "  <div id=\"df-3deb10ba-dab9-4da0-9a51-2833bfcb0554\">\n",
              "    <div class=\"colab-df-container\">\n",
              "      <div>\n",
              "<style scoped>\n",
              "    .dataframe tbody tr th:only-of-type {\n",
              "        vertical-align: middle;\n",
              "    }\n",
              "\n",
              "    .dataframe tbody tr th {\n",
              "        vertical-align: top;\n",
              "    }\n",
              "\n",
              "    .dataframe thead th {\n",
              "        text-align: right;\n",
              "    }\n",
              "</style>\n",
              "<table border=\"1\" class=\"dataframe\">\n",
              "  <thead>\n",
              "    <tr style=\"text-align: right;\">\n",
              "      <th></th>\n",
              "      <th>Loan_ID</th>\n",
              "      <th>Gender</th>\n",
              "      <th>Married</th>\n",
              "      <th>Dependents</th>\n",
              "      <th>Education</th>\n",
              "      <th>Self_Employed</th>\n",
              "      <th>ApplicantIncome</th>\n",
              "      <th>CoapplicantIncome</th>\n",
              "      <th>LoanAmount</th>\n",
              "      <th>Loan_Amount_Term</th>\n",
              "      <th>Credit_History</th>\n",
              "      <th>Property_Area</th>\n",
              "    </tr>\n",
              "  </thead>\n",
              "  <tbody>\n",
              "    <tr>\n",
              "      <th>0</th>\n",
              "      <td>LP001015</td>\n",
              "      <td>Male</td>\n",
              "      <td>Yes</td>\n",
              "      <td>0</td>\n",
              "      <td>Graduate</td>\n",
              "      <td>No</td>\n",
              "      <td>5720</td>\n",
              "      <td>0</td>\n",
              "      <td>110.0</td>\n",
              "      <td>360.0</td>\n",
              "      <td>1.0</td>\n",
              "      <td>Urban</td>\n",
              "    </tr>\n",
              "    <tr>\n",
              "      <th>1</th>\n",
              "      <td>LP001022</td>\n",
              "      <td>Male</td>\n",
              "      <td>Yes</td>\n",
              "      <td>1</td>\n",
              "      <td>Graduate</td>\n",
              "      <td>No</td>\n",
              "      <td>3076</td>\n",
              "      <td>1500</td>\n",
              "      <td>126.0</td>\n",
              "      <td>360.0</td>\n",
              "      <td>1.0</td>\n",
              "      <td>Urban</td>\n",
              "    </tr>\n",
              "    <tr>\n",
              "      <th>2</th>\n",
              "      <td>LP001031</td>\n",
              "      <td>Male</td>\n",
              "      <td>Yes</td>\n",
              "      <td>2</td>\n",
              "      <td>Graduate</td>\n",
              "      <td>No</td>\n",
              "      <td>5000</td>\n",
              "      <td>1800</td>\n",
              "      <td>208.0</td>\n",
              "      <td>360.0</td>\n",
              "      <td>1.0</td>\n",
              "      <td>Urban</td>\n",
              "    </tr>\n",
              "    <tr>\n",
              "      <th>3</th>\n",
              "      <td>LP001035</td>\n",
              "      <td>Male</td>\n",
              "      <td>Yes</td>\n",
              "      <td>2</td>\n",
              "      <td>Graduate</td>\n",
              "      <td>No</td>\n",
              "      <td>2340</td>\n",
              "      <td>2546</td>\n",
              "      <td>100.0</td>\n",
              "      <td>360.0</td>\n",
              "      <td>NaN</td>\n",
              "      <td>Urban</td>\n",
              "    </tr>\n",
              "    <tr>\n",
              "      <th>4</th>\n",
              "      <td>LP001051</td>\n",
              "      <td>Male</td>\n",
              "      <td>No</td>\n",
              "      <td>0</td>\n",
              "      <td>Not Graduate</td>\n",
              "      <td>No</td>\n",
              "      <td>3276</td>\n",
              "      <td>0</td>\n",
              "      <td>78.0</td>\n",
              "      <td>360.0</td>\n",
              "      <td>1.0</td>\n",
              "      <td>Urban</td>\n",
              "    </tr>\n",
              "  </tbody>\n",
              "</table>\n",
              "</div>\n",
              "      <button class=\"colab-df-convert\" onclick=\"convertToInteractive('df-3deb10ba-dab9-4da0-9a51-2833bfcb0554')\"\n",
              "              title=\"Convert this dataframe to an interactive table.\"\n",
              "              style=\"display:none;\">\n",
              "        \n",
              "  <svg xmlns=\"http://www.w3.org/2000/svg\" height=\"24px\"viewBox=\"0 0 24 24\"\n",
              "       width=\"24px\">\n",
              "    <path d=\"M0 0h24v24H0V0z\" fill=\"none\"/>\n",
              "    <path d=\"M18.56 5.44l.94 2.06.94-2.06 2.06-.94-2.06-.94-.94-2.06-.94 2.06-2.06.94zm-11 1L8.5 8.5l.94-2.06 2.06-.94-2.06-.94L8.5 2.5l-.94 2.06-2.06.94zm10 10l.94 2.06.94-2.06 2.06-.94-2.06-.94-.94-2.06-.94 2.06-2.06.94z\"/><path d=\"M17.41 7.96l-1.37-1.37c-.4-.4-.92-.59-1.43-.59-.52 0-1.04.2-1.43.59L10.3 9.45l-7.72 7.72c-.78.78-.78 2.05 0 2.83L4 21.41c.39.39.9.59 1.41.59.51 0 1.02-.2 1.41-.59l7.78-7.78 2.81-2.81c.8-.78.8-2.07 0-2.86zM5.41 20L4 18.59l7.72-7.72 1.47 1.35L5.41 20z\"/>\n",
              "  </svg>\n",
              "      </button>\n",
              "      \n",
              "  <style>\n",
              "    .colab-df-container {\n",
              "      display:flex;\n",
              "      flex-wrap:wrap;\n",
              "      gap: 12px;\n",
              "    }\n",
              "\n",
              "    .colab-df-convert {\n",
              "      background-color: #E8F0FE;\n",
              "      border: none;\n",
              "      border-radius: 50%;\n",
              "      cursor: pointer;\n",
              "      display: none;\n",
              "      fill: #1967D2;\n",
              "      height: 32px;\n",
              "      padding: 0 0 0 0;\n",
              "      width: 32px;\n",
              "    }\n",
              "\n",
              "    .colab-df-convert:hover {\n",
              "      background-color: #E2EBFA;\n",
              "      box-shadow: 0px 1px 2px rgba(60, 64, 67, 0.3), 0px 1px 3px 1px rgba(60, 64, 67, 0.15);\n",
              "      fill: #174EA6;\n",
              "    }\n",
              "\n",
              "    [theme=dark] .colab-df-convert {\n",
              "      background-color: #3B4455;\n",
              "      fill: #D2E3FC;\n",
              "    }\n",
              "\n",
              "    [theme=dark] .colab-df-convert:hover {\n",
              "      background-color: #434B5C;\n",
              "      box-shadow: 0px 1px 3px 1px rgba(0, 0, 0, 0.15);\n",
              "      filter: drop-shadow(0px 1px 2px rgba(0, 0, 0, 0.3));\n",
              "      fill: #FFFFFF;\n",
              "    }\n",
              "  </style>\n",
              "\n",
              "      <script>\n",
              "        const buttonEl =\n",
              "          document.querySelector('#df-3deb10ba-dab9-4da0-9a51-2833bfcb0554 button.colab-df-convert');\n",
              "        buttonEl.style.display =\n",
              "          google.colab.kernel.accessAllowed ? 'block' : 'none';\n",
              "\n",
              "        async function convertToInteractive(key) {\n",
              "          const element = document.querySelector('#df-3deb10ba-dab9-4da0-9a51-2833bfcb0554');\n",
              "          const dataTable =\n",
              "            await google.colab.kernel.invokeFunction('convertToInteractive',\n",
              "                                                     [key], {});\n",
              "          if (!dataTable) return;\n",
              "\n",
              "          const docLinkHtml = 'Like what you see? Visit the ' +\n",
              "            '<a target=\"_blank\" href=https://colab.research.google.com/notebooks/data_table.ipynb>data table notebook</a>'\n",
              "            + ' to learn more about interactive tables.';\n",
              "          element.innerHTML = '';\n",
              "          dataTable['output_type'] = 'display_data';\n",
              "          await google.colab.output.renderOutput(dataTable, element);\n",
              "          const docLink = document.createElement('div');\n",
              "          docLink.innerHTML = docLinkHtml;\n",
              "          element.appendChild(docLink);\n",
              "        }\n",
              "      </script>\n",
              "    </div>\n",
              "  </div>\n",
              "  "
            ]
          },
          "metadata": {},
          "execution_count": 47
        }
      ],
      "source": [
        "test_data.head()"
      ]
    },
    {
      "cell_type": "code",
      "execution_count": 48,
      "metadata": {
        "id": "BsZuJ8XWs5Pf"
      },
      "outputs": [],
      "source": [
        "#changind index to Loan_ID\n",
        "test_data.set_index('Loan_ID', inplace = True)"
      ]
    },
    {
      "cell_type": "code",
      "execution_count": 49,
      "metadata": {
        "id": "G9ait9zvs5Pf"
      },
      "outputs": [],
      "source": [
        "#changing name of few columns\n",
        "test_data.rename(columns = {'ApplicantIncome' : 'Applicant_Income', 'CoapplicantIncome' : 'Coapplicant_Income',\n",
        "                           'LoanAmount' : 'Loan_Amount'}, inplace =  True)"
      ]
    },
    {
      "cell_type": "code",
      "execution_count": 50,
      "metadata": {
        "id": "LN283zUIs5Pg"
      },
      "outputs": [],
      "source": [
        "#filling missing values\n",
        "test_data['Gender'].fillna(value = 'Male', axis = 0, inplace = True)\n",
        "\n",
        "test_data['Dependents'].fillna(value = '0', axis = 0, inplace = True)\n",
        "\n",
        "test_data['Self_Employed'].fillna(value = 'No', axis =0, inplace = True)\n",
        "\n",
        "test_data['Loan_Amount'].fillna(value = 136.4, axis =0, inplace = True)\n",
        "\n",
        "test_data['Loan_Amount_Term'].fillna(value = 360.0, axis = 0, inplace = True)\n",
        "\n",
        "test_data['Credit_History'].fillna(value = 1.0, axis = 0, inplace = True)"
      ]
    },
    {
      "cell_type": "code",
      "execution_count": 51,
      "metadata": {
        "id": "Vum95JFUs5Pg"
      },
      "outputs": [],
      "source": [
        "#changing data types of some variables\n",
        "test_data['Applicant_Income'] = test_data['Applicant_Income'].astype('float')\n",
        "test_data['Coapplicant_Income'] = test_data['Coapplicant_Income'].astype('float')\n",
        "test_data['Credit_History'] = test_data['Credit_History'].astype('uint8')"
      ]
    },
    {
      "cell_type": "code",
      "execution_count": 52,
      "metadata": {
        "colab": {
          "base_uri": "https://localhost:8080/"
        },
        "id": "uDRJypMrs5Ph",
        "outputId": "fd626da0-5ae3-4346-990a-f85f7824357e"
      },
      "outputs": [
        {
          "output_type": "stream",
          "name": "stdout",
          "text": [
            "<class 'pandas.core.frame.DataFrame'>\n",
            "Index: 367 entries, LP001015 to LP002989\n",
            "Data columns (total 11 columns):\n",
            " #   Column              Non-Null Count  Dtype  \n",
            "---  ------              --------------  -----  \n",
            " 0   Gender              367 non-null    object \n",
            " 1   Married             367 non-null    object \n",
            " 2   Dependents          367 non-null    object \n",
            " 3   Education           367 non-null    object \n",
            " 4   Self_Employed       367 non-null    object \n",
            " 5   Applicant_Income    367 non-null    float64\n",
            " 6   Coapplicant_Income  367 non-null    float64\n",
            " 7   Loan_Amount         367 non-null    float64\n",
            " 8   Loan_Amount_Term    367 non-null    float64\n",
            " 9   Credit_History      367 non-null    uint8  \n",
            " 10  Property_Area       367 non-null    object \n",
            "dtypes: float64(4), object(6), uint8(1)\n",
            "memory usage: 31.9+ KB\n"
          ]
        }
      ],
      "source": [
        "test_data.info()"
      ]
    },
    {
      "cell_type": "code",
      "execution_count": 53,
      "metadata": {
        "id": "khXtZ3Tbs5Ph"
      },
      "outputs": [],
      "source": [
        "cat_vars = ['Gender', 'Married', 'Dependents', 'Education', 'Self_Employed', 'Property_Area']\n",
        "for var in cat_vars:\n",
        "    cat_list='var'+'_'+var\n",
        "    cat_list = pd.get_dummies(test_data[var], prefix=var)\n",
        "    data1 = test_data.join(cat_list)\n",
        "    test_data = data1"
      ]
    },
    {
      "cell_type": "code",
      "execution_count": 54,
      "metadata": {
        "colab": {
          "base_uri": "https://localhost:8080/"
        },
        "id": "GKOUFkVps5Ph",
        "outputId": "87de3f9b-ae58-4e9a-b560-fab63045573c"
      },
      "outputs": [
        {
          "output_type": "stream",
          "name": "stdout",
          "text": [
            "<class 'pandas.core.frame.DataFrame'>\n",
            "Index: 367 entries, LP001015 to LP002989\n",
            "Data columns (total 26 columns):\n",
            " #   Column                   Non-Null Count  Dtype  \n",
            "---  ------                   --------------  -----  \n",
            " 0   Gender                   367 non-null    object \n",
            " 1   Married                  367 non-null    object \n",
            " 2   Dependents               367 non-null    object \n",
            " 3   Education                367 non-null    object \n",
            " 4   Self_Employed            367 non-null    object \n",
            " 5   Applicant_Income         367 non-null    float64\n",
            " 6   Coapplicant_Income       367 non-null    float64\n",
            " 7   Loan_Amount              367 non-null    float64\n",
            " 8   Loan_Amount_Term         367 non-null    float64\n",
            " 9   Credit_History           367 non-null    uint8  \n",
            " 10  Property_Area            367 non-null    object \n",
            " 11  Gender_Female            367 non-null    uint8  \n",
            " 12  Gender_Male              367 non-null    uint8  \n",
            " 13  Married_No               367 non-null    uint8  \n",
            " 14  Married_Yes              367 non-null    uint8  \n",
            " 15  Dependents_0             367 non-null    uint8  \n",
            " 16  Dependents_1             367 non-null    uint8  \n",
            " 17  Dependents_2             367 non-null    uint8  \n",
            " 18  Dependents_3+            367 non-null    uint8  \n",
            " 19  Education_Graduate       367 non-null    uint8  \n",
            " 20  Education_Not Graduate   367 non-null    uint8  \n",
            " 21  Self_Employed_No         367 non-null    uint8  \n",
            " 22  Self_Employed_Yes        367 non-null    uint8  \n",
            " 23  Property_Area_Rural      367 non-null    uint8  \n",
            " 24  Property_Area_Semiurban  367 non-null    uint8  \n",
            " 25  Property_Area_Urban      367 non-null    uint8  \n",
            "dtypes: float64(4), object(6), uint8(16)\n",
            "memory usage: 45.4+ KB\n"
          ]
        }
      ],
      "source": [
        "test_data.info()"
      ]
    },
    {
      "cell_type": "code",
      "execution_count": 55,
      "metadata": {
        "id": "JrLYLTdEs5Pi"
      },
      "outputs": [],
      "source": [
        "to_keep_test = test_data.columns[[5,6,7,8,9,12,14,16,17,18,19,22,24,25]]\n",
        "test_data_final = test_data[to_keep_test]"
      ]
    },
    {
      "cell_type": "code",
      "execution_count": 56,
      "metadata": {
        "id": "6_ZM-kq4s5Pi"
      },
      "outputs": [],
      "source": [
        "X_testf = test_data_final"
      ]
    },
    {
      "cell_type": "code",
      "execution_count": 57,
      "metadata": {
        "colab": {
          "base_uri": "https://localhost:8080/"
        },
        "id": "f6TZ7t2Qs5Pj",
        "outputId": "fb89fa88-9550-410e-e30a-5b38944e84d7"
      },
      "outputs": [
        {
          "output_type": "stream",
          "name": "stdout",
          "text": [
            "<class 'pandas.core.frame.DataFrame'>\n",
            "Index: 564 entries, LP001002 to LP002990\n",
            "Data columns (total 14 columns):\n",
            " #   Column                   Non-Null Count  Dtype  \n",
            "---  ------                   --------------  -----  \n",
            " 0   Applicant_Income         564 non-null    float64\n",
            " 1   Coapplicant_Income       564 non-null    float64\n",
            " 2   Loan_Amount              564 non-null    float64\n",
            " 3   Loan_Amount_Term         564 non-null    float64\n",
            " 4   Credit_History           564 non-null    uint8  \n",
            " 5   Gender_Male              564 non-null    uint8  \n",
            " 6   Married_Yes              564 non-null    uint8  \n",
            " 7   Dependents_1             564 non-null    uint8  \n",
            " 8   Dependents_2             564 non-null    uint8  \n",
            " 9   Dependents_3+            564 non-null    uint8  \n",
            " 10  Education_Graduate       564 non-null    uint8  \n",
            " 11  Self_Employed_Yes        564 non-null    uint8  \n",
            " 12  Property_Area_Semiurban  564 non-null    uint8  \n",
            " 13  Property_Area_Urban      564 non-null    uint8  \n",
            "dtypes: float64(4), uint8(10)\n",
            "memory usage: 43.7+ KB\n"
          ]
        }
      ],
      "source": [
        "X.info()"
      ]
    },
    {
      "cell_type": "code",
      "execution_count": 58,
      "metadata": {
        "id": "QtMn_sD8s5Pj"
      },
      "outputs": [],
      "source": [
        "Loan_Pred = model.predict(X_testf)"
      ]
    },
    {
      "cell_type": "code",
      "execution_count": 59,
      "metadata": {
        "colab": {
          "base_uri": "https://localhost:8080/"
        },
        "id": "CI8pxM-Ns5Pj",
        "outputId": "087dd327-a0d8-4d96-822f-c7e4ad189aaa"
      },
      "outputs": [
        {
          "output_type": "stream",
          "name": "stdout",
          "text": [
            "<class 'pandas.core.frame.DataFrame'>\n",
            "RangeIndex: 367 entries, 0 to 366\n",
            "Data columns (total 12 columns):\n",
            " #   Column             Non-Null Count  Dtype  \n",
            "---  ------             --------------  -----  \n",
            " 0   Loan_ID            367 non-null    object \n",
            " 1   Gender             356 non-null    object \n",
            " 2   Married            367 non-null    object \n",
            " 3   Dependents         357 non-null    object \n",
            " 4   Education          367 non-null    object \n",
            " 5   Self_Employed      344 non-null    object \n",
            " 6   ApplicantIncome    367 non-null    int64  \n",
            " 7   CoapplicantIncome  367 non-null    int64  \n",
            " 8   LoanAmount         362 non-null    float64\n",
            " 9   Loan_Amount_Term   361 non-null    float64\n",
            " 10  Credit_History     338 non-null    float64\n",
            " 11  Property_Area      367 non-null    object \n",
            "dtypes: float64(3), int64(2), object(7)\n",
            "memory usage: 34.5+ KB\n"
          ]
        }
      ],
      "source": [
        "#adding predictions to original test data\n",
        "test_data1.info()"
      ]
    },
    {
      "cell_type": "code",
      "execution_count": 60,
      "metadata": {
        "id": "tyXn9tWds5Pk"
      },
      "outputs": [],
      "source": [
        "test_data1['Loan_Status_Yes'] = Loan_Pred"
      ]
    },
    {
      "cell_type": "code",
      "execution_count": 61,
      "metadata": {
        "id": "pynzR4x4s5Pk"
      },
      "outputs": [],
      "source": [
        "test_data1['Loan_Status'] = ' '"
      ]
    },
    {
      "cell_type": "code",
      "execution_count": 62,
      "metadata": {
        "colab": {
          "base_uri": "https://localhost:8080/"
        },
        "id": "anLWlk0ds5Pl",
        "outputId": "b8d8d023-b4ec-4528-9499-c7a7c7e77225"
      },
      "outputs": [
        {
          "output_type": "stream",
          "name": "stderr",
          "text": [
            "/usr/local/lib/python3.7/dist-packages/ipykernel_launcher.py:1: SettingWithCopyWarning: \n",
            "A value is trying to be set on a copy of a slice from a DataFrame\n",
            "\n",
            "See the caveats in the documentation: https://pandas.pydata.org/pandas-docs/stable/user_guide/indexing.html#returning-a-view-versus-a-copy\n",
            "  \"\"\"Entry point for launching an IPython kernel.\n"
          ]
        }
      ],
      "source": [
        "test_data1['Loan_Status'][test_data1['Loan_Status_Yes'] == 1] = 'Y'"
      ]
    },
    {
      "cell_type": "code",
      "execution_count": 63,
      "metadata": {
        "colab": {
          "base_uri": "https://localhost:8080/"
        },
        "id": "Xic5JcShs5Pl",
        "outputId": "1325c4aa-bee8-4d0f-81d7-02a0a0064ce7"
      },
      "outputs": [
        {
          "output_type": "stream",
          "name": "stderr",
          "text": [
            "/usr/local/lib/python3.7/dist-packages/ipykernel_launcher.py:1: SettingWithCopyWarning: \n",
            "A value is trying to be set on a copy of a slice from a DataFrame\n",
            "\n",
            "See the caveats in the documentation: https://pandas.pydata.org/pandas-docs/stable/user_guide/indexing.html#returning-a-view-versus-a-copy\n",
            "  \"\"\"Entry point for launching an IPython kernel.\n"
          ]
        }
      ],
      "source": [
        "test_data1['Loan_Status'][test_data1['Loan_Status_Yes'] == 0] = 'N'"
      ]
    },
    {
      "cell_type": "code",
      "execution_count": 64,
      "metadata": {
        "colab": {
          "base_uri": "https://localhost:8080/"
        },
        "id": "Tixg5Dwks5Pl",
        "outputId": "ef28d684-d0ac-4f69-9449-f34592903d4d"
      },
      "outputs": [
        {
          "output_type": "execute_result",
          "data": {
            "text/plain": [
              "Y    307\n",
              "N     60\n",
              "Name: Loan_Status, dtype: int64"
            ]
          },
          "metadata": {},
          "execution_count": 64
        }
      ],
      "source": [
        "test_data1[\"Loan_Status\"].value_counts()"
      ]
    },
    {
      "cell_type": "code",
      "execution_count": 65,
      "metadata": {
        "id": "euwW3R-Cs5Pm"
      },
      "outputs": [],
      "source": [
        "test_data1.drop(labels = 'Loan_Status_Yes', axis = 1, inplace = True)"
      ]
    },
    {
      "cell_type": "code",
      "execution_count": 66,
      "metadata": {
        "id": "DVroXBWos5Pm"
      },
      "outputs": [],
      "source": [
        "submission_data = test_data1[['Loan_ID', 'Loan_Status']]"
      ]
    },
    {
      "cell_type": "code",
      "execution_count": 67,
      "metadata": {
        "colab": {
          "base_uri": "https://localhost:8080/",
          "height": 206
        },
        "id": "aUiMThtYs5Pm",
        "outputId": "b05c83d7-3dca-4c2f-fa7f-27e11822128f"
      },
      "outputs": [
        {
          "output_type": "execute_result",
          "data": {
            "text/plain": [
              "    Loan_ID Loan_Status\n",
              "0  LP001015           Y\n",
              "1  LP001022           Y\n",
              "2  LP001031           Y\n",
              "3  LP001035           Y\n",
              "4  LP001051           Y"
            ],
            "text/html": [
              "\n",
              "  <div id=\"df-67c6468c-b69f-4dfb-9f82-8fc4200bdbbf\">\n",
              "    <div class=\"colab-df-container\">\n",
              "      <div>\n",
              "<style scoped>\n",
              "    .dataframe tbody tr th:only-of-type {\n",
              "        vertical-align: middle;\n",
              "    }\n",
              "\n",
              "    .dataframe tbody tr th {\n",
              "        vertical-align: top;\n",
              "    }\n",
              "\n",
              "    .dataframe thead th {\n",
              "        text-align: right;\n",
              "    }\n",
              "</style>\n",
              "<table border=\"1\" class=\"dataframe\">\n",
              "  <thead>\n",
              "    <tr style=\"text-align: right;\">\n",
              "      <th></th>\n",
              "      <th>Loan_ID</th>\n",
              "      <th>Loan_Status</th>\n",
              "    </tr>\n",
              "  </thead>\n",
              "  <tbody>\n",
              "    <tr>\n",
              "      <th>0</th>\n",
              "      <td>LP001015</td>\n",
              "      <td>Y</td>\n",
              "    </tr>\n",
              "    <tr>\n",
              "      <th>1</th>\n",
              "      <td>LP001022</td>\n",
              "      <td>Y</td>\n",
              "    </tr>\n",
              "    <tr>\n",
              "      <th>2</th>\n",
              "      <td>LP001031</td>\n",
              "      <td>Y</td>\n",
              "    </tr>\n",
              "    <tr>\n",
              "      <th>3</th>\n",
              "      <td>LP001035</td>\n",
              "      <td>Y</td>\n",
              "    </tr>\n",
              "    <tr>\n",
              "      <th>4</th>\n",
              "      <td>LP001051</td>\n",
              "      <td>Y</td>\n",
              "    </tr>\n",
              "  </tbody>\n",
              "</table>\n",
              "</div>\n",
              "      <button class=\"colab-df-convert\" onclick=\"convertToInteractive('df-67c6468c-b69f-4dfb-9f82-8fc4200bdbbf')\"\n",
              "              title=\"Convert this dataframe to an interactive table.\"\n",
              "              style=\"display:none;\">\n",
              "        \n",
              "  <svg xmlns=\"http://www.w3.org/2000/svg\" height=\"24px\"viewBox=\"0 0 24 24\"\n",
              "       width=\"24px\">\n",
              "    <path d=\"M0 0h24v24H0V0z\" fill=\"none\"/>\n",
              "    <path d=\"M18.56 5.44l.94 2.06.94-2.06 2.06-.94-2.06-.94-.94-2.06-.94 2.06-2.06.94zm-11 1L8.5 8.5l.94-2.06 2.06-.94-2.06-.94L8.5 2.5l-.94 2.06-2.06.94zm10 10l.94 2.06.94-2.06 2.06-.94-2.06-.94-.94-2.06-.94 2.06-2.06.94z\"/><path d=\"M17.41 7.96l-1.37-1.37c-.4-.4-.92-.59-1.43-.59-.52 0-1.04.2-1.43.59L10.3 9.45l-7.72 7.72c-.78.78-.78 2.05 0 2.83L4 21.41c.39.39.9.59 1.41.59.51 0 1.02-.2 1.41-.59l7.78-7.78 2.81-2.81c.8-.78.8-2.07 0-2.86zM5.41 20L4 18.59l7.72-7.72 1.47 1.35L5.41 20z\"/>\n",
              "  </svg>\n",
              "      </button>\n",
              "      \n",
              "  <style>\n",
              "    .colab-df-container {\n",
              "      display:flex;\n",
              "      flex-wrap:wrap;\n",
              "      gap: 12px;\n",
              "    }\n",
              "\n",
              "    .colab-df-convert {\n",
              "      background-color: #E8F0FE;\n",
              "      border: none;\n",
              "      border-radius: 50%;\n",
              "      cursor: pointer;\n",
              "      display: none;\n",
              "      fill: #1967D2;\n",
              "      height: 32px;\n",
              "      padding: 0 0 0 0;\n",
              "      width: 32px;\n",
              "    }\n",
              "\n",
              "    .colab-df-convert:hover {\n",
              "      background-color: #E2EBFA;\n",
              "      box-shadow: 0px 1px 2px rgba(60, 64, 67, 0.3), 0px 1px 3px 1px rgba(60, 64, 67, 0.15);\n",
              "      fill: #174EA6;\n",
              "    }\n",
              "\n",
              "    [theme=dark] .colab-df-convert {\n",
              "      background-color: #3B4455;\n",
              "      fill: #D2E3FC;\n",
              "    }\n",
              "\n",
              "    [theme=dark] .colab-df-convert:hover {\n",
              "      background-color: #434B5C;\n",
              "      box-shadow: 0px 1px 3px 1px rgba(0, 0, 0, 0.15);\n",
              "      filter: drop-shadow(0px 1px 2px rgba(0, 0, 0, 0.3));\n",
              "      fill: #FFFFFF;\n",
              "    }\n",
              "  </style>\n",
              "\n",
              "      <script>\n",
              "        const buttonEl =\n",
              "          document.querySelector('#df-67c6468c-b69f-4dfb-9f82-8fc4200bdbbf button.colab-df-convert');\n",
              "        buttonEl.style.display =\n",
              "          google.colab.kernel.accessAllowed ? 'block' : 'none';\n",
              "\n",
              "        async function convertToInteractive(key) {\n",
              "          const element = document.querySelector('#df-67c6468c-b69f-4dfb-9f82-8fc4200bdbbf');\n",
              "          const dataTable =\n",
              "            await google.colab.kernel.invokeFunction('convertToInteractive',\n",
              "                                                     [key], {});\n",
              "          if (!dataTable) return;\n",
              "\n",
              "          const docLinkHtml = 'Like what you see? Visit the ' +\n",
              "            '<a target=\"_blank\" href=https://colab.research.google.com/notebooks/data_table.ipynb>data table notebook</a>'\n",
              "            + ' to learn more about interactive tables.';\n",
              "          element.innerHTML = '';\n",
              "          dataTable['output_type'] = 'display_data';\n",
              "          await google.colab.output.renderOutput(dataTable, element);\n",
              "          const docLink = document.createElement('div');\n",
              "          docLink.innerHTML = docLinkHtml;\n",
              "          element.appendChild(docLink);\n",
              "        }\n",
              "      </script>\n",
              "    </div>\n",
              "  </div>\n",
              "  "
            ]
          },
          "metadata": {},
          "execution_count": 67
        }
      ],
      "source": [
        "submission_data.head()"
      ]
    },
    {
      "cell_type": "code",
      "execution_count": 68,
      "metadata": {
        "id": "OQydCmBOs5Pn"
      },
      "outputs": [],
      "source": [
        "submission_data.to_csv('loan_predictions.csv', index = False)"
      ]
    },
    {
      "cell_type": "code",
      "source": [
        "submission_data"
      ],
      "metadata": {
        "colab": {
          "base_uri": "https://localhost:8080/",
          "height": 423
        },
        "id": "bIefa4NzPXP0",
        "outputId": "37b17662-5566-4ff7-e808-ce80e625f4e6"
      },
      "execution_count": 69,
      "outputs": [
        {
          "output_type": "execute_result",
          "data": {
            "text/plain": [
              "      Loan_ID Loan_Status\n",
              "0    LP001015           Y\n",
              "1    LP001022           Y\n",
              "2    LP001031           Y\n",
              "3    LP001035           Y\n",
              "4    LP001051           Y\n",
              "..        ...         ...\n",
              "362  LP002971           Y\n",
              "363  LP002975           Y\n",
              "364  LP002980           Y\n",
              "365  LP002986           Y\n",
              "366  LP002989           Y\n",
              "\n",
              "[367 rows x 2 columns]"
            ],
            "text/html": [
              "\n",
              "  <div id=\"df-3a559f71-8912-456c-a9fe-0028ae7bbaa0\">\n",
              "    <div class=\"colab-df-container\">\n",
              "      <div>\n",
              "<style scoped>\n",
              "    .dataframe tbody tr th:only-of-type {\n",
              "        vertical-align: middle;\n",
              "    }\n",
              "\n",
              "    .dataframe tbody tr th {\n",
              "        vertical-align: top;\n",
              "    }\n",
              "\n",
              "    .dataframe thead th {\n",
              "        text-align: right;\n",
              "    }\n",
              "</style>\n",
              "<table border=\"1\" class=\"dataframe\">\n",
              "  <thead>\n",
              "    <tr style=\"text-align: right;\">\n",
              "      <th></th>\n",
              "      <th>Loan_ID</th>\n",
              "      <th>Loan_Status</th>\n",
              "    </tr>\n",
              "  </thead>\n",
              "  <tbody>\n",
              "    <tr>\n",
              "      <th>0</th>\n",
              "      <td>LP001015</td>\n",
              "      <td>Y</td>\n",
              "    </tr>\n",
              "    <tr>\n",
              "      <th>1</th>\n",
              "      <td>LP001022</td>\n",
              "      <td>Y</td>\n",
              "    </tr>\n",
              "    <tr>\n",
              "      <th>2</th>\n",
              "      <td>LP001031</td>\n",
              "      <td>Y</td>\n",
              "    </tr>\n",
              "    <tr>\n",
              "      <th>3</th>\n",
              "      <td>LP001035</td>\n",
              "      <td>Y</td>\n",
              "    </tr>\n",
              "    <tr>\n",
              "      <th>4</th>\n",
              "      <td>LP001051</td>\n",
              "      <td>Y</td>\n",
              "    </tr>\n",
              "    <tr>\n",
              "      <th>...</th>\n",
              "      <td>...</td>\n",
              "      <td>...</td>\n",
              "    </tr>\n",
              "    <tr>\n",
              "      <th>362</th>\n",
              "      <td>LP002971</td>\n",
              "      <td>Y</td>\n",
              "    </tr>\n",
              "    <tr>\n",
              "      <th>363</th>\n",
              "      <td>LP002975</td>\n",
              "      <td>Y</td>\n",
              "    </tr>\n",
              "    <tr>\n",
              "      <th>364</th>\n",
              "      <td>LP002980</td>\n",
              "      <td>Y</td>\n",
              "    </tr>\n",
              "    <tr>\n",
              "      <th>365</th>\n",
              "      <td>LP002986</td>\n",
              "      <td>Y</td>\n",
              "    </tr>\n",
              "    <tr>\n",
              "      <th>366</th>\n",
              "      <td>LP002989</td>\n",
              "      <td>Y</td>\n",
              "    </tr>\n",
              "  </tbody>\n",
              "</table>\n",
              "<p>367 rows × 2 columns</p>\n",
              "</div>\n",
              "      <button class=\"colab-df-convert\" onclick=\"convertToInteractive('df-3a559f71-8912-456c-a9fe-0028ae7bbaa0')\"\n",
              "              title=\"Convert this dataframe to an interactive table.\"\n",
              "              style=\"display:none;\">\n",
              "        \n",
              "  <svg xmlns=\"http://www.w3.org/2000/svg\" height=\"24px\"viewBox=\"0 0 24 24\"\n",
              "       width=\"24px\">\n",
              "    <path d=\"M0 0h24v24H0V0z\" fill=\"none\"/>\n",
              "    <path d=\"M18.56 5.44l.94 2.06.94-2.06 2.06-.94-2.06-.94-.94-2.06-.94 2.06-2.06.94zm-11 1L8.5 8.5l.94-2.06 2.06-.94-2.06-.94L8.5 2.5l-.94 2.06-2.06.94zm10 10l.94 2.06.94-2.06 2.06-.94-2.06-.94-.94-2.06-.94 2.06-2.06.94z\"/><path d=\"M17.41 7.96l-1.37-1.37c-.4-.4-.92-.59-1.43-.59-.52 0-1.04.2-1.43.59L10.3 9.45l-7.72 7.72c-.78.78-.78 2.05 0 2.83L4 21.41c.39.39.9.59 1.41.59.51 0 1.02-.2 1.41-.59l7.78-7.78 2.81-2.81c.8-.78.8-2.07 0-2.86zM5.41 20L4 18.59l7.72-7.72 1.47 1.35L5.41 20z\"/>\n",
              "  </svg>\n",
              "      </button>\n",
              "      \n",
              "  <style>\n",
              "    .colab-df-container {\n",
              "      display:flex;\n",
              "      flex-wrap:wrap;\n",
              "      gap: 12px;\n",
              "    }\n",
              "\n",
              "    .colab-df-convert {\n",
              "      background-color: #E8F0FE;\n",
              "      border: none;\n",
              "      border-radius: 50%;\n",
              "      cursor: pointer;\n",
              "      display: none;\n",
              "      fill: #1967D2;\n",
              "      height: 32px;\n",
              "      padding: 0 0 0 0;\n",
              "      width: 32px;\n",
              "    }\n",
              "\n",
              "    .colab-df-convert:hover {\n",
              "      background-color: #E2EBFA;\n",
              "      box-shadow: 0px 1px 2px rgba(60, 64, 67, 0.3), 0px 1px 3px 1px rgba(60, 64, 67, 0.15);\n",
              "      fill: #174EA6;\n",
              "    }\n",
              "\n",
              "    [theme=dark] .colab-df-convert {\n",
              "      background-color: #3B4455;\n",
              "      fill: #D2E3FC;\n",
              "    }\n",
              "\n",
              "    [theme=dark] .colab-df-convert:hover {\n",
              "      background-color: #434B5C;\n",
              "      box-shadow: 0px 1px 3px 1px rgba(0, 0, 0, 0.15);\n",
              "      filter: drop-shadow(0px 1px 2px rgba(0, 0, 0, 0.3));\n",
              "      fill: #FFFFFF;\n",
              "    }\n",
              "  </style>\n",
              "\n",
              "      <script>\n",
              "        const buttonEl =\n",
              "          document.querySelector('#df-3a559f71-8912-456c-a9fe-0028ae7bbaa0 button.colab-df-convert');\n",
              "        buttonEl.style.display =\n",
              "          google.colab.kernel.accessAllowed ? 'block' : 'none';\n",
              "\n",
              "        async function convertToInteractive(key) {\n",
              "          const element = document.querySelector('#df-3a559f71-8912-456c-a9fe-0028ae7bbaa0');\n",
              "          const dataTable =\n",
              "            await google.colab.kernel.invokeFunction('convertToInteractive',\n",
              "                                                     [key], {});\n",
              "          if (!dataTable) return;\n",
              "\n",
              "          const docLinkHtml = 'Like what you see? Visit the ' +\n",
              "            '<a target=\"_blank\" href=https://colab.research.google.com/notebooks/data_table.ipynb>data table notebook</a>'\n",
              "            + ' to learn more about interactive tables.';\n",
              "          element.innerHTML = '';\n",
              "          dataTable['output_type'] = 'display_data';\n",
              "          await google.colab.output.renderOutput(dataTable, element);\n",
              "          const docLink = document.createElement('div');\n",
              "          docLink.innerHTML = docLinkHtml;\n",
              "          element.appendChild(docLink);\n",
              "        }\n",
              "      </script>\n",
              "    </div>\n",
              "  </div>\n",
              "  "
            ]
          },
          "metadata": {},
          "execution_count": 69
        }
      ]
    }
  ],
  "metadata": {
    "kernelspec": {
      "display_name": "Python 3",
      "language": "python",
      "name": "python3"
    },
    "language_info": {
      "codemirror_mode": {
        "name": "ipython",
        "version": 3
      },
      "file_extension": ".py",
      "mimetype": "text/x-python",
      "name": "python",
      "nbconvert_exporter": "python",
      "pygments_lexer": "ipython3",
      "version": "3.7.6"
    },
    "colab": {
      "provenance": [],
      "collapsed_sections": [
        "Thr3CzE7QGfj",
        "MibVygg-Q9l2",
        "1iyouT_Ys5PG",
        "ZdJEu7j0s5PS",
        "I0Ay1EERs5PX",
        "RWGHnQ67s5Pa"
      ],
      "include_colab_link": true
    }
  },
  "nbformat": 4,
  "nbformat_minor": 0
}