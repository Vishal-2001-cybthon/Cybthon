{
  "nbformat": 4,
  "nbformat_minor": 0,
  "metadata": {
    "colab": {
      "provenance": [],
      "authorship_tag": "ABX9TyNevenw0hpfa0PCtvQq+I1i",
      "include_colab_link": true
    },
    "kernelspec": {
      "name": "python3",
      "display_name": "Python 3"
    },
    "language_info": {
      "name": "python"
    }
  },
  "cells": [
    {
      "cell_type": "markdown",
      "metadata": {
        "id": "view-in-github",
        "colab_type": "text"
      },
      "source": [
        "<a href=\"https://colab.research.google.com/github/Vishal-2001-cybthon/Cybthon/blob/main/Project_school.ipynb\" target=\"_parent\"><img src=\"https://colab.research.google.com/assets/colab-badge.svg\" alt=\"Open In Colab\"/></a>"
      ]
    },
    {
      "cell_type": "code",
      "execution_count": null,
      "metadata": {
        "id": "caupUrWPira4"
      },
      "outputs": [],
      "source": [
        "print(\"!!!Welcome To DOB Lucky Number Checker!!!\")\n",
        "D_O_B=int(input(\"Enter your Date of Birth: \"))\n",
        "length=str(D_O_B)\n",
        "if len(length)==8:\n",
        "  D_O_B= list(map(int, str(D_O_B)))\n",
        "  print(\"The valid Date of Birth is: \",D_O_B)\n",
        "  odd_pos=[]\n",
        "  even_pos=[]\n",
        "  d=1\n",
        "  for i in D_O_B:\n",
        "    if d==1 or d==3 or d==5 or d==7:\n",
        "        odd_pos.append(i)\n",
        "        d+=1\n",
        "    else:\n",
        "        even_pos.append(i)\n",
        "        d+=1\n",
        "  odd_pos=sum(odd_pos)*3\n",
        "  even_pos=sum(even_pos)+odd_pos\n",
        "  print(\"The total value is: \",even_pos)\n",
        "  if '0' in str(even_pos):\n",
        "    print(\"The DOB\",D_O_B, \"is a Lucky Number\")\n",
        "  else:\n",
        "    print(\"The DOB\",D_O_B, \"is not a Lucky Number\")\n",
        "else:\n",
        "  print(\"Cannot be Processed\")"
      ]
    }
  ]
}